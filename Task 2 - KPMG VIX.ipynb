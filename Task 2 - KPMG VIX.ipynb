{
 "cells": [
  {
   "cell_type": "markdown",
   "id": "9242b9c2-8ca9-4d5e-bbbb-712636aefa82",
   "metadata": {},
   "source": [
    "# **VIRTUAL INTERNSHIP EXPERIENCE - KPMG**\n",
    "---"
   ]
  },
  {
   "cell_type": "markdown",
   "id": "56864abe-a386-4d27-8d9f-d6b0a1ac27d1",
   "metadata": {},
   "source": [
    "## Task 2 - Data Insights"
   ]
  },
  {
   "cell_type": "markdown",
   "id": "be7d402a-bad9-44b6-8af0-4641bfdc0d5e",
   "metadata": {},
   "source": [
    "📑 **Objective** :\n",
    "- Recommend which of these 1000 new customers should be targeted to drive the most value for the organisation using the existing 3 datasets (Customer demographic, customer address and transactions)"
   ]
  },
  {
   "cell_type": "markdown",
   "id": "cb1853cf-2e60-4291-8e74-3781a53847e5",
   "metadata": {},
   "source": [
    "<br>"
   ]
  },
  {
   "cell_type": "markdown",
   "id": "fc6f6ed1-5ae8-4042-9275-543ed25d372c",
   "metadata": {},
   "source": [
    "# **LOAD DATASET**\n",
    "---"
   ]
  },
  {
   "cell_type": "code",
   "execution_count": 1,
   "id": "bd0cb4f7-48c3-4a53-8aa3-d9f0df91bfcc",
   "metadata": {},
   "outputs": [],
   "source": [
    "# import dataset\n",
    "import pandas as pd \n",
    "import numpy as np\n",
    "import seaborn as sns\n",
    "import matplotlib.pyplot as plt \n",
    "%matplotlib inline\n",
    "import warnings\n",
    "warnings.filterwarnings(\"ignore\")"
   ]
  },
  {
   "cell_type": "code",
   "execution_count": 2,
   "id": "6f2e228d-3f5b-45ce-9bbf-561c1422bfc5",
   "metadata": {},
   "outputs": [],
   "source": [
    "# read data set that has been cleaned\n",
    "data_demo = pd.read_csv('CustomerDemographic_CLEAN.csv')\n",
    "data_addr = pd.read_csv('CustomerAddress_CLEAN.csv')\n",
    "data_tran = pd.read_csv('Transaction_CLEAN.csv')"
   ]
  },
  {
   "cell_type": "markdown",
   "id": "e2654915-9b62-407a-a052-aaeca00abd04",
   "metadata": {},
   "source": [
    "# **DATA CLEANING**\n",
    "---"
   ]
  },
  {
   "cell_type": "markdown",
   "id": "478febfd-4e20-4603-9652-e3ce8323671a",
   "metadata": {},
   "source": [
    "## **1. Customer Demographic**"
   ]
  },
  {
   "cell_type": "code",
   "execution_count": 3,
   "id": "eca68cfd-9565-4ff5-8cf5-61a3339eeddf",
   "metadata": {},
   "outputs": [
    {
     "data": {
      "text/html": [
       "<div>\n",
       "<style scoped>\n",
       "    .dataframe tbody tr th:only-of-type {\n",
       "        vertical-align: middle;\n",
       "    }\n",
       "\n",
       "    .dataframe tbody tr th {\n",
       "        vertical-align: top;\n",
       "    }\n",
       "\n",
       "    .dataframe thead th {\n",
       "        text-align: right;\n",
       "    }\n",
       "</style>\n",
       "<table border=\"1\" class=\"dataframe\">\n",
       "  <thead>\n",
       "    <tr style=\"text-align: right;\">\n",
       "      <th></th>\n",
       "      <th>customer_id</th>\n",
       "      <th>first_name</th>\n",
       "      <th>last_name</th>\n",
       "      <th>gender</th>\n",
       "      <th>past_3_years_bike_related_purchases</th>\n",
       "      <th>DOB</th>\n",
       "      <th>job_title</th>\n",
       "      <th>job_industry_category</th>\n",
       "      <th>wealth_segment</th>\n",
       "      <th>deceased_indicator</th>\n",
       "      <th>owns_car</th>\n",
       "      <th>tenure</th>\n",
       "      <th>age</th>\n",
       "    </tr>\n",
       "  </thead>\n",
       "  <tbody>\n",
       "    <tr>\n",
       "      <th>2094</th>\n",
       "      <td>2096</td>\n",
       "      <td>Torrie</td>\n",
       "      <td>Smartman</td>\n",
       "      <td>Female</td>\n",
       "      <td>74</td>\n",
       "      <td>1969-05-21</td>\n",
       "      <td>Programmer III</td>\n",
       "      <td>Telecommunications</td>\n",
       "      <td>High Net Worth</td>\n",
       "      <td>No</td>\n",
       "      <td>Yes</td>\n",
       "      <td>12</td>\n",
       "      <td>53</td>\n",
       "    </tr>\n",
       "    <tr>\n",
       "      <th>1608</th>\n",
       "      <td>1610</td>\n",
       "      <td>Valaree</td>\n",
       "      <td>Chisolm</td>\n",
       "      <td>Female</td>\n",
       "      <td>75</td>\n",
       "      <td>1955-02-10</td>\n",
       "      <td>Structural Engineer</td>\n",
       "      <td>Property</td>\n",
       "      <td>High Net Worth</td>\n",
       "      <td>No</td>\n",
       "      <td>Yes</td>\n",
       "      <td>9</td>\n",
       "      <td>67</td>\n",
       "    </tr>\n",
       "  </tbody>\n",
       "</table>\n",
       "</div>"
      ],
      "text/plain": [
       "      customer_id first_name last_name  gender  \\\n",
       "2094         2096     Torrie  Smartman  Female   \n",
       "1608         1610    Valaree   Chisolm  Female   \n",
       "\n",
       "      past_3_years_bike_related_purchases         DOB            job_title  \\\n",
       "2094                                   74  1969-05-21       Programmer III   \n",
       "1608                                   75  1955-02-10  Structural Engineer   \n",
       "\n",
       "     job_industry_category  wealth_segment deceased_indicator owns_car  \\\n",
       "2094    Telecommunications  High Net Worth                 No      Yes   \n",
       "1608              Property  High Net Worth                 No      Yes   \n",
       "\n",
       "      tenure  age  \n",
       "2094      12   53  \n",
       "1608       9   67  "
      ]
     },
     "execution_count": 3,
     "metadata": {},
     "output_type": "execute_result"
    }
   ],
   "source": [
    "data_demo.sample(2)"
   ]
  },
  {
   "cell_type": "code",
   "execution_count": 4,
   "id": "b4e11db7-190c-4b07-b4f4-2ef0d79398c4",
   "metadata": {},
   "outputs": [],
   "source": [
    "# remove irrelevant columns for analysis in customer demographic \n",
    "data_demo1 = data_demo.copy()\n",
    "data_demo1.drop(columns=['DOB', 'deceased_indicator', 'first_name', 'last_name'], inplace=True)"
   ]
  },
  {
   "cell_type": "code",
   "execution_count": 5,
   "id": "283242cf-11ea-4c1a-aa4d-b2745089f6f8",
   "metadata": {},
   "outputs": [],
   "source": [
    "# convert datatype customer id\n",
    "data_demo1['customer_id']= data_demo1['customer_id'].astype('object')"
   ]
  },
  {
   "cell_type": "code",
   "execution_count": 6,
   "id": "72bda9aa-dc11-425f-8b20-fb254f6d8c96",
   "metadata": {},
   "outputs": [
    {
     "data": {
      "image/png": "[encoded data removed]",
      "text/plain": [
       "<Figure size 600x300 with 3 Axes>"
      ]
     },
     "metadata": {},
     "output_type": "display_data"
    }
   ],
   "source": [
    "# check outlier\n",
    "nums = data_demo1.loc[:, (data_demo1.dtypes == 'int64')].columns.tolist()\n",
    "plt.figure(figsize=(6, 3))\n",
    "for i in range(0, len(nums)):\n",
    "    plt.subplot(1, len(nums), i+1)\n",
    "    sns.boxplot(y=data_demo1[nums[i]], color='darkorange', orient='v')\n",
    "    plt.tight_layout()"
   ]
  },
  {
   "cell_type": "markdown",
   "id": "5892ea9b-4590-4435-a527-aed220a81507",
   "metadata": {},
   "source": [
    "There are outliers in the age column. 180 years old is an abnormal number for human age. So we decided to remove this extreme value using z-score."
   ]
  },
  {
   "cell_type": "code",
   "execution_count": 7,
   "id": "f34f76b2-52a0-4b3e-8ed6-f238abecfd51",
   "metadata": {},
   "outputs": [],
   "source": [
    "# handling outlier with zscore\n",
    "from scipy import stats\n",
    "z_scores = np.abs(stats.zscore(data_demo1['age']))\n",
    "filtered = (z_scores < 3)\n",
    "data_demo1 = data_demo1[filtered]"
   ]
  },
  {
   "cell_type": "code",
   "execution_count": 8,
   "id": "4dcb0d24-0306-46d9-b34c-bccbe7193a89",
   "metadata": {},
   "outputs": [
    {
     "data": {
      "image/png": "[encoded data removed]",
      "text/plain": [
       "<Figure size 600x300 with 3 Axes>"
      ]
     },
     "metadata": {},
     "output_type": "display_data"
    }
   ],
   "source": [
    "# after handling outlier\n",
    "nums = data_demo1.loc[:, (data_demo1.dtypes == 'int64')].columns.tolist()\n",
    "plt.figure(figsize=(6, 3))\n",
    "for i in range(0, len(nums)):\n",
    "    plt.subplot(1, len(nums), i+1)\n",
    "    sns.boxplot(y=data_demo1[nums[i]], color='darkorange', orient='v')\n",
    "    plt.tight_layout()"
   ]
  },
  {
   "cell_type": "markdown",
   "id": "8049e78a-3603-4011-a470-c9a5a112b601",
   "metadata": {},
   "source": [
    "To make it easier to see the age distribution for further analysis, we created an age class column."
   ]
  },
  {
   "cell_type": "code",
   "execution_count": 9,
   "id": "4c4db46e-6e33-4e7c-a918-706eba1cb008",
   "metadata": {},
   "outputs": [],
   "source": [
    "# create age class\n",
    "data_demo1['age_class'] = (round(data_demo['age']/ 10) * 10).astype(int)"
   ]
  },
  {
   "cell_type": "code",
   "execution_count": 10,
   "id": "4a88bc59-be17-49ad-b18f-e7f70a8ef4d0",
   "metadata": {},
   "outputs": [
    {
     "data": {
      "text/html": [
       "<div>\n",
       "<style scoped>\n",
       "    .dataframe tbody tr th:only-of-type {\n",
       "        vertical-align: middle;\n",
       "    }\n",
       "\n",
       "    .dataframe tbody tr th {\n",
       "        vertical-align: top;\n",
       "    }\n",
       "\n",
       "    .dataframe thead th {\n",
       "        text-align: right;\n",
       "    }\n",
       "</style>\n",
       "<table border=\"1\" class=\"dataframe\">\n",
       "  <thead>\n",
       "    <tr style=\"text-align: right;\">\n",
       "      <th></th>\n",
       "      <th>customer_id</th>\n",
       "      <th>gender</th>\n",
       "      <th>past_3_years_bike_related_purchases</th>\n",
       "      <th>job_title</th>\n",
       "      <th>job_industry_category</th>\n",
       "      <th>wealth_segment</th>\n",
       "      <th>owns_car</th>\n",
       "      <th>tenure</th>\n",
       "      <th>age</th>\n",
       "      <th>age_class</th>\n",
       "    </tr>\n",
       "  </thead>\n",
       "  <tbody>\n",
       "    <tr>\n",
       "      <th>3604</th>\n",
       "      <td>3606</td>\n",
       "      <td>Female</td>\n",
       "      <td>52</td>\n",
       "      <td>Graphic Designer</td>\n",
       "      <td>Health</td>\n",
       "      <td>High Net Worth</td>\n",
       "      <td>No</td>\n",
       "      <td>15</td>\n",
       "      <td>65</td>\n",
       "      <td>60</td>\n",
       "    </tr>\n",
       "    <tr>\n",
       "      <th>6</th>\n",
       "      <td>7</td>\n",
       "      <td>Female</td>\n",
       "      <td>6</td>\n",
       "      <td>Senior Editor</td>\n",
       "      <td>Financial Services</td>\n",
       "      <td>Affluent Customer</td>\n",
       "      <td>Yes</td>\n",
       "      <td>11</td>\n",
       "      <td>46</td>\n",
       "      <td>50</td>\n",
       "    </tr>\n",
       "  </tbody>\n",
       "</table>\n",
       "</div>"
      ],
      "text/plain": [
       "     customer_id  gender  past_3_years_bike_related_purchases  \\\n",
       "3604        3606  Female                                   52   \n",
       "6              7  Female                                    6   \n",
       "\n",
       "             job_title job_industry_category     wealth_segment owns_car  \\\n",
       "3604  Graphic Designer                Health     High Net Worth       No   \n",
       "6        Senior Editor    Financial Services  Affluent Customer      Yes   \n",
       "\n",
       "      tenure  age  age_class  \n",
       "3604      15   65         60  \n",
       "6         11   46         50  "
      ]
     },
     "execution_count": 10,
     "metadata": {},
     "output_type": "execute_result"
    }
   ],
   "source": [
    "data_demo1.sample(2)"
   ]
  },
  {
   "cell_type": "code",
   "execution_count": 11,
   "id": "ee38db06-a270-4412-8bab-6863fea336ef",
   "metadata": {},
   "outputs": [
    {
     "name": "stdout",
     "output_type": "stream",
     "text": [
      "<class 'pandas.core.frame.DataFrame'>\n",
      "Int64Index: 3995 entries, 0 to 3997\n",
      "Data columns (total 10 columns):\n",
      " #   Column                               Non-Null Count  Dtype \n",
      "---  ------                               --------------  ----- \n",
      " 0   customer_id                          3995 non-null   object\n",
      " 1   gender                               3995 non-null   object\n",
      " 2   past_3_years_bike_related_purchases  3995 non-null   int64 \n",
      " 3   job_title                            3995 non-null   object\n",
      " 4   job_industry_category                3995 non-null   object\n",
      " 5   wealth_segment                       3995 non-null   object\n",
      " 6   owns_car                             3995 non-null   object\n",
      " 7   tenure                               3995 non-null   int64 \n",
      " 8   age                                  3995 non-null   int64 \n",
      " 9   age_class                            3995 non-null   int32 \n",
      "dtypes: int32(1), int64(3), object(6)\n",
      "memory usage: 327.7+ KB\n"
     ]
    }
   ],
   "source": [
    "data_demo1.info()"
   ]
  },
  {
   "cell_type": "markdown",
   "id": "35fbf8ef-5f56-4fa9-890e-570cd52c4e7a",
   "metadata": {},
   "source": [
    "## **2. Customer Address**"
   ]
  },
  {
   "cell_type": "code",
   "execution_count": 12,
   "id": "b5d03222-e097-484c-b9f6-0e3501062270",
   "metadata": {},
   "outputs": [
    {
     "data": {
      "text/html": [
       "<div>\n",
       "<style scoped>\n",
       "    .dataframe tbody tr th:only-of-type {\n",
       "        vertical-align: middle;\n",
       "    }\n",
       "\n",
       "    .dataframe tbody tr th {\n",
       "        vertical-align: top;\n",
       "    }\n",
       "\n",
       "    .dataframe thead th {\n",
       "        text-align: right;\n",
       "    }\n",
       "</style>\n",
       "<table border=\"1\" class=\"dataframe\">\n",
       "  <thead>\n",
       "    <tr style=\"text-align: right;\">\n",
       "      <th></th>\n",
       "      <th>customer_id</th>\n",
       "      <th>address</th>\n",
       "      <th>postcode</th>\n",
       "      <th>state</th>\n",
       "      <th>country</th>\n",
       "      <th>property_valuation</th>\n",
       "    </tr>\n",
       "  </thead>\n",
       "  <tbody>\n",
       "    <tr>\n",
       "      <th>1626</th>\n",
       "      <td>1631</td>\n",
       "      <td>9179 Sunfield Terrace</td>\n",
       "      <td>4510</td>\n",
       "      <td>QLD</td>\n",
       "      <td>Australia</td>\n",
       "      <td>2</td>\n",
       "    </tr>\n",
       "    <tr>\n",
       "      <th>1131</th>\n",
       "      <td>1136</td>\n",
       "      <td>92 Melvin Hill</td>\n",
       "      <td>2147</td>\n",
       "      <td>NSW</td>\n",
       "      <td>Australia</td>\n",
       "      <td>9</td>\n",
       "    </tr>\n",
       "  </tbody>\n",
       "</table>\n",
       "</div>"
      ],
      "text/plain": [
       "      customer_id                address  postcode state    country  \\\n",
       "1626         1631  9179 Sunfield Terrace      4510   QLD  Australia   \n",
       "1131         1136         92 Melvin Hill      2147   NSW  Australia   \n",
       "\n",
       "      property_valuation  \n",
       "1626                   2  \n",
       "1131                   9  "
      ]
     },
     "execution_count": 12,
     "metadata": {},
     "output_type": "execute_result"
    }
   ],
   "source": [
    "data_addr.sample(2)"
   ]
  },
  {
   "cell_type": "code",
   "execution_count": 13,
   "id": "a141b3c8-3994-46b8-807a-88d128918311",
   "metadata": {},
   "outputs": [],
   "source": [
    "# remove irrelevant columns for analysis in customer address \n",
    "data_addr1 = data_addr.copy()\n",
    "data_addr1.drop(columns=['address', 'postcode', 'country'], inplace=True)"
   ]
  },
  {
   "cell_type": "code",
   "execution_count": 14,
   "id": "a9320baa-023b-4c5c-ad9e-c1a2c574b2ad",
   "metadata": {},
   "outputs": [],
   "source": [
    "# convert datatype customer id\n",
    "data_addr1['customer_id']= data_addr1['customer_id'].astype('object')"
   ]
  },
  {
   "cell_type": "code",
   "execution_count": 15,
   "id": "54fe1afd-88fa-4d00-a250-1f40a269d23d",
   "metadata": {},
   "outputs": [
    {
     "data": {
      "image/png": "[encoded data removed]",
      "text/plain": [
       "<Figure size 200x300 with 1 Axes>"
      ]
     },
     "metadata": {},
     "output_type": "display_data"
    }
   ],
   "source": [
    "# check outlier\n",
    "plt.figure(figsize=(2, 3))\n",
    "sns.boxplot(y=data_addr1['property_valuation'], color='darkorange', orient='v')\n",
    "plt.tight_layout()"
   ]
  },
  {
   "cell_type": "code",
   "execution_count": 16,
   "id": "c61ce300-587e-4462-8290-35cfa9b187f7",
   "metadata": {},
   "outputs": [
    {
     "name": "stdout",
     "output_type": "stream",
     "text": [
      "<class 'pandas.core.frame.DataFrame'>\n",
      "RangeIndex: 3999 entries, 0 to 3998\n",
      "Data columns (total 3 columns):\n",
      " #   Column              Non-Null Count  Dtype \n",
      "---  ------              --------------  ----- \n",
      " 0   customer_id         3999 non-null   object\n",
      " 1   state               3999 non-null   object\n",
      " 2   property_valuation  3999 non-null   int64 \n",
      "dtypes: int64(1), object(2)\n",
      "memory usage: 93.9+ KB\n"
     ]
    }
   ],
   "source": [
    "data_addr1.info()"
   ]
  },
  {
   "cell_type": "markdown",
   "id": "3150312e-1adf-4ea4-942c-1ba33637c000",
   "metadata": {},
   "source": [
    "## **3. Transaction**"
   ]
  },
  {
   "cell_type": "code",
   "execution_count": 17,
   "id": "ebd7d2bc-ad67-41a7-a361-e0603dfbfaf5",
   "metadata": {},
   "outputs": [
    {
     "data": {
      "text/html": [
       "<div>\n",
       "<style scoped>\n",
       "    .dataframe tbody tr th:only-of-type {\n",
       "        vertical-align: middle;\n",
       "    }\n",
       "\n",
       "    .dataframe tbody tr th {\n",
       "        vertical-align: top;\n",
       "    }\n",
       "\n",
       "    .dataframe thead th {\n",
       "        text-align: right;\n",
       "    }\n",
       "</style>\n",
       "<table border=\"1\" class=\"dataframe\">\n",
       "  <thead>\n",
       "    <tr style=\"text-align: right;\">\n",
       "      <th></th>\n",
       "      <th>transaction_id</th>\n",
       "      <th>product_id</th>\n",
       "      <th>customer_id</th>\n",
       "      <th>transaction_date</th>\n",
       "      <th>online_order</th>\n",
       "      <th>order_status</th>\n",
       "      <th>brand</th>\n",
       "      <th>product_line</th>\n",
       "      <th>product_class</th>\n",
       "      <th>product_size</th>\n",
       "      <th>list_price</th>\n",
       "      <th>standard_cost</th>\n",
       "      <th>product_first_sold_date</th>\n",
       "    </tr>\n",
       "  </thead>\n",
       "  <tbody>\n",
       "    <tr>\n",
       "      <th>2071</th>\n",
       "      <td>2123</td>\n",
       "      <td>0</td>\n",
       "      <td>945</td>\n",
       "      <td>2017-06-28</td>\n",
       "      <td>True</td>\n",
       "      <td>Approved</td>\n",
       "      <td>Trek Bicycles</td>\n",
       "      <td>Standard</td>\n",
       "      <td>medium</td>\n",
       "      <td>medium</td>\n",
       "      <td>499.53</td>\n",
       "      <td>388.72</td>\n",
       "      <td>1997-10-06</td>\n",
       "    </tr>\n",
       "    <tr>\n",
       "      <th>16043</th>\n",
       "      <td>16507</td>\n",
       "      <td>38</td>\n",
       "      <td>3361</td>\n",
       "      <td>2017-09-04</td>\n",
       "      <td>False</td>\n",
       "      <td>Approved</td>\n",
       "      <td>Solex</td>\n",
       "      <td>Standard</td>\n",
       "      <td>medium</td>\n",
       "      <td>medium</td>\n",
       "      <td>1577.53</td>\n",
       "      <td>826.51</td>\n",
       "      <td>1991-01-23</td>\n",
       "    </tr>\n",
       "  </tbody>\n",
       "</table>\n",
       "</div>"
      ],
      "text/plain": [
       "       transaction_id  product_id  customer_id transaction_date  online_order  \\\n",
       "2071             2123           0          945       2017-06-28          True   \n",
       "16043           16507          38         3361       2017-09-04         False   \n",
       "\n",
       "      order_status          brand product_line product_class product_size  \\\n",
       "2071      Approved  Trek Bicycles     Standard        medium       medium   \n",
       "16043     Approved          Solex     Standard        medium       medium   \n",
       "\n",
       "       list_price  standard_cost product_first_sold_date  \n",
       "2071       499.53         388.72              1997-10-06  \n",
       "16043     1577.53         826.51              1991-01-23  "
      ]
     },
     "execution_count": 17,
     "metadata": {},
     "output_type": "execute_result"
    }
   ],
   "source": [
    "data_tran.sample(2)"
   ]
  },
  {
   "cell_type": "code",
   "execution_count": 18,
   "id": "1e3cf612-5e35-4cf5-8d91-fb412080f9e9",
   "metadata": {},
   "outputs": [
    {
     "data": {
      "text/html": [
       "<div>\n",
       "<style scoped>\n",
       "    .dataframe tbody tr th:only-of-type {\n",
       "        vertical-align: middle;\n",
       "    }\n",
       "\n",
       "    .dataframe tbody tr th {\n",
       "        vertical-align: top;\n",
       "    }\n",
       "\n",
       "    .dataframe thead th {\n",
       "        text-align: right;\n",
       "    }\n",
       "</style>\n",
       "<table border=\"1\" class=\"dataframe\">\n",
       "  <thead>\n",
       "    <tr style=\"text-align: right;\">\n",
       "      <th></th>\n",
       "      <th>transaction_id</th>\n",
       "      <th>product_id</th>\n",
       "      <th>customer_id</th>\n",
       "      <th>transaction_date</th>\n",
       "      <th>online_order</th>\n",
       "      <th>order_status</th>\n",
       "      <th>brand</th>\n",
       "      <th>product_line</th>\n",
       "      <th>product_class</th>\n",
       "      <th>product_size</th>\n",
       "      <th>list_price</th>\n",
       "      <th>standard_cost</th>\n",
       "      <th>product_first_sold_date</th>\n",
       "    </tr>\n",
       "  </thead>\n",
       "  <tbody>\n",
       "    <tr>\n",
       "      <th>5993</th>\n",
       "      <td>6141</td>\n",
       "      <td>33</td>\n",
       "      <td>3218</td>\n",
       "      <td>2017-04-06</td>\n",
       "      <td>False</td>\n",
       "      <td>Cancelled</td>\n",
       "      <td>Giant Bicycles</td>\n",
       "      <td>Standard</td>\n",
       "      <td>medium</td>\n",
       "      <td>small</td>\n",
       "      <td>1311.44</td>\n",
       "      <td>1167.18</td>\n",
       "      <td>1999-12-06</td>\n",
       "    </tr>\n",
       "    <tr>\n",
       "      <th>18733</th>\n",
       "      <td>19273</td>\n",
       "      <td>23</td>\n",
       "      <td>2738</td>\n",
       "      <td>2017-08-13</td>\n",
       "      <td>True</td>\n",
       "      <td>Cancelled</td>\n",
       "      <td>Norco Bicycles</td>\n",
       "      <td>Mountain</td>\n",
       "      <td>low</td>\n",
       "      <td>small</td>\n",
       "      <td>688.63</td>\n",
       "      <td>612.88</td>\n",
       "      <td>1993-10-04</td>\n",
       "    </tr>\n",
       "  </tbody>\n",
       "</table>\n",
       "</div>"
      ],
      "text/plain": [
       "       transaction_id  product_id  customer_id transaction_date  online_order  \\\n",
       "5993             6141          33         3218       2017-04-06         False   \n",
       "18733           19273          23         2738       2017-08-13          True   \n",
       "\n",
       "      order_status           brand product_line product_class product_size  \\\n",
       "5993     Cancelled  Giant Bicycles     Standard        medium        small   \n",
       "18733    Cancelled  Norco Bicycles     Mountain           low        small   \n",
       "\n",
       "       list_price  standard_cost product_first_sold_date  \n",
       "5993      1311.44        1167.18              1999-12-06  \n",
       "18733      688.63         612.88              1993-10-04  "
      ]
     },
     "execution_count": 18,
     "metadata": {},
     "output_type": "execute_result"
    }
   ],
   "source": [
    "data_tran[data_tran['order_status']=='Cancelled'].sample(2)"
   ]
  },
  {
   "cell_type": "markdown",
   "id": "cd384743-2316-46ed-bbb1-72494dc4f7f2",
   "metadata": {},
   "source": [
    "In the order_status column with the Cancelled value, it can be assumed that the transaction was canceled so the company did not get revenue. We decide to delete the data record that has the Cancelled value and then we drop the column. The data retrieved is the successful transaction data."
   ]
  },
  {
   "cell_type": "code",
   "execution_count": 19,
   "id": "8d31b69b-84cf-49ef-90b0-646f2d3e41c2",
   "metadata": {},
   "outputs": [],
   "source": [
    "# deleting rows that order status is cancelled -> not generate revenue\n",
    "data_tran1 = data_tran.copy()\n",
    "data_tran1 = data_tran1[data_tran1['order_status']!='Cancelled']"
   ]
  },
  {
   "cell_type": "code",
   "execution_count": 20,
   "id": "be1df821-a62d-4fc7-b8b8-db4d995e6bc2",
   "metadata": {},
   "outputs": [],
   "source": [
    "# remove columns order status\n",
    "data_tran1.drop(columns=['order_status'], inplace=True)"
   ]
  },
  {
   "cell_type": "markdown",
   "id": "74e3b378-b684-4d64-88e3-e9cb3d8c823f",
   "metadata": {},
   "source": [
    "Convert data types in some columns."
   ]
  },
  {
   "cell_type": "code",
   "execution_count": 21,
   "id": "2dd21cea-4515-4b9c-864f-9e8faec1259a",
   "metadata": {},
   "outputs": [],
   "source": [
    "# convert to datetime\n",
    "dt = ['transaction_date', 'product_first_sold_date']\n",
    "data_tran1[dt] = data_tran1[dt].astype('datetime64[ns]')"
   ]
  },
  {
   "cell_type": "code",
   "execution_count": 22,
   "id": "8884bb1b-67d0-4238-9cb5-7c2778d4456b",
   "metadata": {},
   "outputs": [],
   "source": [
    "# covert to object\n",
    "ls_id = ['transaction_id', 'product_id', 'customer_id']\n",
    "data_tran1[ls_id] = data_tran1[ls_id].astype('object')"
   ]
  },
  {
   "cell_type": "code",
   "execution_count": 23,
   "id": "c7cfa109-38ca-4840-a336-3cdfd27e506c",
   "metadata": {},
   "outputs": [
    {
     "data": {
      "image/png": "[encoded data removed]",
      "text/plain": [
       "<Figure size 400x300 with 2 Axes>"
      ]
     },
     "metadata": {},
     "output_type": "display_data"
    }
   ],
   "source": [
    "# check outlier\n",
    "nums = ['list_price', 'standard_cost']\n",
    "plt.figure(figsize=(4, 3))\n",
    "for i in range(0, len(nums)):\n",
    "    plt.subplot(1, len(nums), i+1)\n",
    "    sns.boxplot(y=data_tran1[nums[i]], color='darkorange', orient='v')\n",
    "    plt.tight_layout()"
   ]
  },
  {
   "cell_type": "code",
   "execution_count": 24,
   "id": "fe4152d5-0003-4377-ab7c-754739df2732",
   "metadata": {},
   "outputs": [
    {
     "name": "stdout",
     "output_type": "stream",
     "text": [
      "<class 'pandas.core.frame.DataFrame'>\n",
      "Int64Index: 19273 entries, 0 to 19444\n",
      "Data columns (total 12 columns):\n",
      " #   Column                   Non-Null Count  Dtype         \n",
      "---  ------                   --------------  -----         \n",
      " 0   transaction_id           19273 non-null  object        \n",
      " 1   product_id               19273 non-null  object        \n",
      " 2   customer_id              19273 non-null  object        \n",
      " 3   transaction_date         19273 non-null  datetime64[ns]\n",
      " 4   online_order             19273 non-null  bool          \n",
      " 5   brand                    19273 non-null  object        \n",
      " 6   product_line             19273 non-null  object        \n",
      " 7   product_class            19273 non-null  object        \n",
      " 8   product_size             19273 non-null  object        \n",
      " 9   list_price               19273 non-null  float64       \n",
      " 10  standard_cost            19273 non-null  float64       \n",
      " 11  product_first_sold_date  19273 non-null  datetime64[ns]\n",
      "dtypes: bool(1), datetime64[ns](2), float64(2), object(7)\n",
      "memory usage: 1.8+ MB\n"
     ]
    }
   ],
   "source": [
    "data_tran1.info()"
   ]
  },
  {
   "cell_type": "markdown",
   "id": "05c4b7bc-b415-4b91-a0fd-2b0023cd1a31",
   "metadata": {},
   "source": [
    "## **4. Combine the Dataset Into Single Dataset**"
   ]
  },
  {
   "cell_type": "markdown",
   "id": "e8beaaaa-ec15-475e-a60a-f1df984e9d49",
   "metadata": {},
   "source": [
    "### **4.1. Merge Demographic and Address**"
   ]
  },
  {
   "cell_type": "code",
   "execution_count": 25,
   "id": "b3cfdf7e-8ef4-4db5-a0a6-0d5244e1f6e4",
   "metadata": {},
   "outputs": [
    {
     "data": {
      "text/html": [
       "<div>\n",
       "<style scoped>\n",
       "    .dataframe tbody tr th:only-of-type {\n",
       "        vertical-align: middle;\n",
       "    }\n",
       "\n",
       "    .dataframe tbody tr th {\n",
       "        vertical-align: top;\n",
       "    }\n",
       "\n",
       "    .dataframe thead th {\n",
       "        text-align: right;\n",
       "    }\n",
       "</style>\n",
       "<table border=\"1\" class=\"dataframe\">\n",
       "  <thead>\n",
       "    <tr style=\"text-align: right;\">\n",
       "      <th></th>\n",
       "      <th>customer_id</th>\n",
       "      <th>gender</th>\n",
       "      <th>past_3_years_bike_related_purchases</th>\n",
       "      <th>job_title</th>\n",
       "      <th>job_industry_category</th>\n",
       "      <th>wealth_segment</th>\n",
       "      <th>owns_car</th>\n",
       "      <th>tenure</th>\n",
       "      <th>age</th>\n",
       "      <th>age_class</th>\n",
       "      <th>state</th>\n",
       "      <th>property_valuation</th>\n",
       "    </tr>\n",
       "  </thead>\n",
       "  <tbody>\n",
       "    <tr>\n",
       "      <th>2737</th>\n",
       "      <td>2746</td>\n",
       "      <td>Female</td>\n",
       "      <td>97</td>\n",
       "      <td>Actuary</td>\n",
       "      <td>Financial Services</td>\n",
       "      <td>High Net Worth</td>\n",
       "      <td>Yes</td>\n",
       "      <td>7</td>\n",
       "      <td>69</td>\n",
       "      <td>70</td>\n",
       "      <td>VIC</td>\n",
       "      <td>8</td>\n",
       "    </tr>\n",
       "    <tr>\n",
       "      <th>1759</th>\n",
       "      <td>1768</td>\n",
       "      <td>Male</td>\n",
       "      <td>36</td>\n",
       "      <td>Programmer I</td>\n",
       "      <td>Manufacturing</td>\n",
       "      <td>High Net Worth</td>\n",
       "      <td>No</td>\n",
       "      <td>13</td>\n",
       "      <td>48</td>\n",
       "      <td>50</td>\n",
       "      <td>NSW</td>\n",
       "      <td>12</td>\n",
       "    </tr>\n",
       "  </tbody>\n",
       "</table>\n",
       "</div>"
      ],
      "text/plain": [
       "     customer_id  gender  past_3_years_bike_related_purchases     job_title  \\\n",
       "2737        2746  Female                                   97       Actuary   \n",
       "1759        1768    Male                                   36  Programmer I   \n",
       "\n",
       "     job_industry_category  wealth_segment owns_car  tenure  age  age_class  \\\n",
       "2737    Financial Services  High Net Worth      Yes       7   69         70   \n",
       "1759         Manufacturing  High Net Worth       No      13   48         50   \n",
       "\n",
       "     state  property_valuation  \n",
       "2737   VIC                   8  \n",
       "1759   NSW                  12  "
      ]
     },
     "execution_count": 25,
     "metadata": {},
     "output_type": "execute_result"
    }
   ],
   "source": [
    "# merge data demographic and addres\n",
    "demo_addr = pd.merge(data_demo1, data_addr1, on='customer_id')\n",
    "demo_addr.sample(2)"
   ]
  },
  {
   "cell_type": "markdown",
   "id": "394043d3-8060-4dc6-b1fb-8efed57fe9f1",
   "metadata": {},
   "source": [
    "### **4.2. Merge demo_addr and Transaction**"
   ]
  },
  {
   "cell_type": "code",
   "execution_count": 26,
   "id": "20086945-664e-41be-8916-49f828096250",
   "metadata": {},
   "outputs": [
    {
     "data": {
      "text/html": [
       "<div>\n",
       "<style scoped>\n",
       "    .dataframe tbody tr th:only-of-type {\n",
       "        vertical-align: middle;\n",
       "    }\n",
       "\n",
       "    .dataframe tbody tr th {\n",
       "        vertical-align: top;\n",
       "    }\n",
       "\n",
       "    .dataframe thead th {\n",
       "        text-align: right;\n",
       "    }\n",
       "</style>\n",
       "<table border=\"1\" class=\"dataframe\">\n",
       "  <thead>\n",
       "    <tr style=\"text-align: right;\">\n",
       "      <th></th>\n",
       "      <th>transaction_id</th>\n",
       "      <th>product_id</th>\n",
       "      <th>customer_id</th>\n",
       "      <th>transaction_date</th>\n",
       "      <th>online_order</th>\n",
       "      <th>brand</th>\n",
       "      <th>product_line</th>\n",
       "      <th>product_class</th>\n",
       "      <th>product_size</th>\n",
       "      <th>list_price</th>\n",
       "      <th>...</th>\n",
       "      <th>past_3_years_bike_related_purchases</th>\n",
       "      <th>job_title</th>\n",
       "      <th>job_industry_category</th>\n",
       "      <th>wealth_segment</th>\n",
       "      <th>owns_car</th>\n",
       "      <th>tenure</th>\n",
       "      <th>age</th>\n",
       "      <th>age_class</th>\n",
       "      <th>state</th>\n",
       "      <th>property_valuation</th>\n",
       "    </tr>\n",
       "  </thead>\n",
       "  <tbody>\n",
       "    <tr>\n",
       "      <th>18353</th>\n",
       "      <td>10502</td>\n",
       "      <td>79</td>\n",
       "      <td>3122</td>\n",
       "      <td>2017-05-14</td>\n",
       "      <td>True</td>\n",
       "      <td>Solex</td>\n",
       "      <td>Touring</td>\n",
       "      <td>medium</td>\n",
       "      <td>large</td>\n",
       "      <td>2083.94</td>\n",
       "      <td>...</td>\n",
       "      <td>17</td>\n",
       "      <td>Data Coordiator</td>\n",
       "      <td>Manufacturing</td>\n",
       "      <td>High Net Worth</td>\n",
       "      <td>Yes</td>\n",
       "      <td>15</td>\n",
       "      <td>42</td>\n",
       "      <td>40</td>\n",
       "      <td>NSW</td>\n",
       "      <td>9</td>\n",
       "    </tr>\n",
       "    <tr>\n",
       "      <th>18913</th>\n",
       "      <td>11511</td>\n",
       "      <td>0</td>\n",
       "      <td>448</td>\n",
       "      <td>2017-03-19</td>\n",
       "      <td>True</td>\n",
       "      <td>Trek Bicycles</td>\n",
       "      <td>Standard</td>\n",
       "      <td>high</td>\n",
       "      <td>medium</td>\n",
       "      <td>495.72</td>\n",
       "      <td>...</td>\n",
       "      <td>34</td>\n",
       "      <td>Software Engineer III</td>\n",
       "      <td>IT</td>\n",
       "      <td>High Net Worth</td>\n",
       "      <td>No</td>\n",
       "      <td>3</td>\n",
       "      <td>27</td>\n",
       "      <td>30</td>\n",
       "      <td>NSW</td>\n",
       "      <td>10</td>\n",
       "    </tr>\n",
       "  </tbody>\n",
       "</table>\n",
       "<p>2 rows × 23 columns</p>\n",
       "</div>"
      ],
      "text/plain": [
       "      transaction_id product_id customer_id transaction_date  online_order  \\\n",
       "18353          10502         79        3122       2017-05-14          True   \n",
       "18913          11511          0         448       2017-03-19          True   \n",
       "\n",
       "               brand product_line product_class product_size  list_price  ...  \\\n",
       "18353          Solex      Touring        medium        large     2083.94  ...   \n",
       "18913  Trek Bicycles     Standard          high       medium      495.72  ...   \n",
       "\n",
       "       past_3_years_bike_related_purchases              job_title  \\\n",
       "18353                                   17        Data Coordiator   \n",
       "18913                                   34  Software Engineer III   \n",
       "\n",
       "      job_industry_category  wealth_segment owns_car tenure age age_class  \\\n",
       "18353         Manufacturing  High Net Worth      Yes     15  42        40   \n",
       "18913                    IT  High Net Worth       No      3  27        30   \n",
       "\n",
       "       state  property_valuation  \n",
       "18353    NSW                   9  \n",
       "18913    NSW                  10  \n",
       "\n",
       "[2 rows x 23 columns]"
      ]
     },
     "execution_count": 26,
     "metadata": {},
     "output_type": "execute_result"
    }
   ],
   "source": [
    "data_all = pd.merge(data_tran1, demo_addr, on='customer_id')\n",
    "data_all.sample(2)"
   ]
  },
  {
   "cell_type": "markdown",
   "id": "62031d55-c182-49b0-8696-c741f910c993",
   "metadata": {},
   "source": [
    "### **4.3. Check Merged Dataframe**"
   ]
  },
  {
   "cell_type": "code",
   "execution_count": 27,
   "id": "b0259e00-5380-4f12-aaf1-5719b5c57572",
   "metadata": {},
   "outputs": [
    {
     "name": "stdout",
     "output_type": "stream",
     "text": [
      "<class 'pandas.core.frame.DataFrame'>\n",
      "Int64Index: 19214 entries, 0 to 19213\n",
      "Data columns (total 23 columns):\n",
      " #   Column                               Non-Null Count  Dtype         \n",
      "---  ------                               --------------  -----         \n",
      " 0   transaction_id                       19214 non-null  object        \n",
      " 1   product_id                           19214 non-null  object        \n",
      " 2   customer_id                          19214 non-null  object        \n",
      " 3   transaction_date                     19214 non-null  datetime64[ns]\n",
      " 4   online_order                         19214 non-null  bool          \n",
      " 5   brand                                19214 non-null  object        \n",
      " 6   product_line                         19214 non-null  object        \n",
      " 7   product_class                        19214 non-null  object        \n",
      " 8   product_size                         19214 non-null  object        \n",
      " 9   list_price                           19214 non-null  float64       \n",
      " 10  standard_cost                        19214 non-null  float64       \n",
      " 11  product_first_sold_date              19214 non-null  datetime64[ns]\n",
      " 12  gender                               19214 non-null  object        \n",
      " 13  past_3_years_bike_related_purchases  19214 non-null  int64         \n",
      " 14  job_title                            19214 non-null  object        \n",
      " 15  job_industry_category                19214 non-null  object        \n",
      " 16  wealth_segment                       19214 non-null  object        \n",
      " 17  owns_car                             19214 non-null  object        \n",
      " 18  tenure                               19214 non-null  int64         \n",
      " 19  age                                  19214 non-null  int64         \n",
      " 20  age_class                            19214 non-null  int32         \n",
      " 21  state                                19214 non-null  object        \n",
      " 22  property_valuation                   19214 non-null  int64         \n",
      "dtypes: bool(1), datetime64[ns](2), float64(2), int32(1), int64(4), object(13)\n",
      "memory usage: 3.3+ MB\n"
     ]
    }
   ],
   "source": [
    "data_all.info()"
   ]
  },
  {
   "cell_type": "markdown",
   "id": "07aa958a-99b5-4942-a8fd-2dbb156a0dfb",
   "metadata": {},
   "source": [
    "# **EDA**\n",
    "---"
   ]
  },
  {
   "cell_type": "code",
   "execution_count": 28,
   "id": "5c9ab2fd-6b04-4c6e-ae0f-35d59d017b7a",
   "metadata": {},
   "outputs": [],
   "source": [
    "# making a copy of dataset for backing up\n",
    "data_merged = data_all.copy()\n",
    "data_merged.reset_index(inplace = True, drop = True)"
   ]
  },
  {
   "cell_type": "code",
   "execution_count": 29,
   "id": "1571ca6f-65c5-40f4-9743-41ad48ac10c0",
   "metadata": {},
   "outputs": [],
   "source": [
    "# columns numerical\n",
    "nums = ['list_price', 'standard_cost', 'past_3_years_bike_related_purchases', 'tenure', 'age', 'property_valuation']"
   ]
  },
  {
   "cell_type": "code",
   "execution_count": 30,
   "id": "df7308b0-eced-45e5-9ef3-6bee05668a08",
   "metadata": {},
   "outputs": [
    {
     "data": {
      "text/html": [
       "<div>\n",
       "<style scoped>\n",
       "    .dataframe tbody tr th:only-of-type {\n",
       "        vertical-align: middle;\n",
       "    }\n",
       "\n",
       "    .dataframe tbody tr th {\n",
       "        vertical-align: top;\n",
       "    }\n",
       "\n",
       "    .dataframe thead th {\n",
       "        text-align: right;\n",
       "    }\n",
       "</style>\n",
       "<table border=\"1\" class=\"dataframe\">\n",
       "  <thead>\n",
       "    <tr style=\"text-align: right;\">\n",
       "      <th></th>\n",
       "      <th>count</th>\n",
       "      <th>mean</th>\n",
       "      <th>std</th>\n",
       "      <th>min</th>\n",
       "      <th>25%</th>\n",
       "      <th>50%</th>\n",
       "      <th>75%</th>\n",
       "      <th>max</th>\n",
       "    </tr>\n",
       "  </thead>\n",
       "  <tbody>\n",
       "    <tr>\n",
       "      <th>list_price</th>\n",
       "      <td>19214.0</td>\n",
       "      <td>1106.69</td>\n",
       "      <td>582.94</td>\n",
       "      <td>12.01</td>\n",
       "      <td>575.27</td>\n",
       "      <td>1163.89</td>\n",
       "      <td>1635.3</td>\n",
       "      <td>2091.47</td>\n",
       "    </tr>\n",
       "    <tr>\n",
       "      <th>standard_cost</th>\n",
       "      <td>19214.0</td>\n",
       "      <td>555.22</td>\n",
       "      <td>405.36</td>\n",
       "      <td>7.21</td>\n",
       "      <td>215.14</td>\n",
       "      <td>507.58</td>\n",
       "      <td>795.1</td>\n",
       "      <td>1759.85</td>\n",
       "    </tr>\n",
       "    <tr>\n",
       "      <th>past_3_years_bike_related_purchases</th>\n",
       "      <td>19214.0</td>\n",
       "      <td>48.77</td>\n",
       "      <td>28.60</td>\n",
       "      <td>0.00</td>\n",
       "      <td>24.00</td>\n",
       "      <td>48.00</td>\n",
       "      <td>73.0</td>\n",
       "      <td>99.00</td>\n",
       "    </tr>\n",
       "    <tr>\n",
       "      <th>tenure</th>\n",
       "      <td>19214.0</td>\n",
       "      <td>10.66</td>\n",
       "      <td>5.68</td>\n",
       "      <td>1.00</td>\n",
       "      <td>6.00</td>\n",
       "      <td>11.00</td>\n",
       "      <td>15.0</td>\n",
       "      <td>22.00</td>\n",
       "    </tr>\n",
       "    <tr>\n",
       "      <th>age</th>\n",
       "      <td>19214.0</td>\n",
       "      <td>44.83</td>\n",
       "      <td>12.58</td>\n",
       "      <td>20.00</td>\n",
       "      <td>35.00</td>\n",
       "      <td>45.00</td>\n",
       "      <td>54.0</td>\n",
       "      <td>82.00</td>\n",
       "    </tr>\n",
       "    <tr>\n",
       "      <th>age_class</th>\n",
       "      <td>19214.0</td>\n",
       "      <td>44.57</td>\n",
       "      <td>13.10</td>\n",
       "      <td>20.00</td>\n",
       "      <td>40.00</td>\n",
       "      <td>40.00</td>\n",
       "      <td>50.0</td>\n",
       "      <td>80.00</td>\n",
       "    </tr>\n",
       "    <tr>\n",
       "      <th>property_valuation</th>\n",
       "      <td>19214.0</td>\n",
       "      <td>7.52</td>\n",
       "      <td>2.82</td>\n",
       "      <td>1.00</td>\n",
       "      <td>6.00</td>\n",
       "      <td>8.00</td>\n",
       "      <td>10.0</td>\n",
       "      <td>12.00</td>\n",
       "    </tr>\n",
       "  </tbody>\n",
       "</table>\n",
       "</div>"
      ],
      "text/plain": [
       "                                       count     mean     std    min     25%  \\\n",
       "list_price                           19214.0  1106.69  582.94  12.01  575.27   \n",
       "standard_cost                        19214.0   555.22  405.36   7.21  215.14   \n",
       "past_3_years_bike_related_purchases  19214.0    48.77   28.60   0.00   24.00   \n",
       "tenure                               19214.0    10.66    5.68   1.00    6.00   \n",
       "age                                  19214.0    44.83   12.58  20.00   35.00   \n",
       "age_class                            19214.0    44.57   13.10  20.00   40.00   \n",
       "property_valuation                   19214.0     7.52    2.82   1.00    6.00   \n",
       "\n",
       "                                         50%     75%      max  \n",
       "list_price                           1163.89  1635.3  2091.47  \n",
       "standard_cost                         507.58   795.1  1759.85  \n",
       "past_3_years_bike_related_purchases    48.00    73.0    99.00  \n",
       "tenure                                 11.00    15.0    22.00  \n",
       "age                                    45.00    54.0    82.00  \n",
       "age_class                              40.00    50.0    80.00  \n",
       "property_valuation                      8.00    10.0    12.00  "
      ]
     },
     "execution_count": 30,
     "metadata": {},
     "output_type": "execute_result"
    }
   ],
   "source": [
    "# descriptive statistics\n",
    "data_merged.describe().round(2).T"
   ]
  },
  {
   "cell_type": "code",
   "execution_count": 31,
   "id": "6c3e5348-c680-47c3-b090-b8706f511ffc",
   "metadata": {},
   "outputs": [
    {
     "data": {
      "image/png": "[encoded data removed]",
      "text/plain": [
       "<Figure size 1000x1500 with 6 Axes>"
      ]
     },
     "metadata": {},
     "output_type": "display_data"
    }
   ],
   "source": [
    "# distribution\n",
    "plt.figure(figsize=(10, 15))\n",
    "for i in range(0, len(nums)):\n",
    "    plt.subplot(4, 2, i+1)\n",
    "    sns.distplot(data_merged[nums[i]])\n",
    "    plt.tight_layout()"
   ]
  },
  {
   "cell_type": "markdown",
   "id": "f6a6ac1f-4df4-4a5a-a9c5-e279fb3c3da6",
   "metadata": {},
   "source": [
    "- Data that tends to approach normal distribution : past_3_years_bike_related_purchases, tenure, age\n",
    "- Positively skewed data (mean < median) : standard_charge, price_list, property_value"
   ]
  },
  {
   "cell_type": "markdown",
   "id": "7d85a339-3ecf-42a2-8ee0-8b24c63a911c",
   "metadata": {
    "tags": []
   },
   "source": [
    "## **1. Transaction Data**"
   ]
  },
  {
   "cell_type": "code",
   "execution_count": 32,
   "id": "fdab120e-1f3e-48f5-b26c-7b60aad164cb",
   "metadata": {},
   "outputs": [],
   "source": [
    "# making backup dataset\n",
    "data_transaction = data_merged.copy()"
   ]
  },
  {
   "cell_type": "markdown",
   "id": "50f16c40-95c5-4c35-af70-9479a4d4e1ad",
   "metadata": {},
   "source": [
    "We want to deeper analysis of datetime data by breaking it down into more specific parts."
   ]
  },
  {
   "cell_type": "code",
   "execution_count": 33,
   "id": "0f33a54e-c0a2-4a20-820b-316b7309a295",
   "metadata": {},
   "outputs": [],
   "source": [
    "# deeper analysis of datetime data by breaking it down into more specific parts\n",
    "data_transaction['transaction_year'] = data_transaction['transaction_date'].dt.strftime('%Y')\n",
    "data_transaction['transaction_month'] = data_transaction['transaction_date'].dt.strftime('%B')\n",
    "data_transaction['transaction_quarter'] = data_transaction['transaction_date'].dt.quarter.astype(str)\n",
    "data_transaction['transaction_day'] = data_transaction['transaction_date'].dt.strftime('%d')\n",
    "data_transaction['transaction_weekday'] = data_transaction['transaction_date'].dt.strftime('%A')\n",
    "data_transaction.drop(['transaction_date'],axis=1,inplace=True)"
   ]
  },
  {
   "cell_type": "markdown",
   "id": "da4e4fd5-bd93-4dab-8192-68a8b84360f9",
   "metadata": {},
   "source": [
    "#### **Statistical Summary**\n",
    "---"
   ]
  },
  {
   "cell_type": "code",
   "execution_count": 34,
   "id": "19212b7b-2a6b-409a-901f-d18257a1d5bf",
   "metadata": {},
   "outputs": [
    {
     "data": {
      "text/html": [
       "<div>\n",
       "<style scoped>\n",
       "    .dataframe tbody tr th:only-of-type {\n",
       "        vertical-align: middle;\n",
       "    }\n",
       "\n",
       "    .dataframe tbody tr th {\n",
       "        vertical-align: top;\n",
       "    }\n",
       "\n",
       "    .dataframe thead th {\n",
       "        text-align: right;\n",
       "    }\n",
       "</style>\n",
       "<table border=\"1\" class=\"dataframe\">\n",
       "  <thead>\n",
       "    <tr style=\"text-align: right;\">\n",
       "      <th></th>\n",
       "      <th>count</th>\n",
       "      <th>unique</th>\n",
       "      <th>top</th>\n",
       "      <th>freq</th>\n",
       "    </tr>\n",
       "  </thead>\n",
       "  <tbody>\n",
       "    <tr>\n",
       "      <th>transaction_year</th>\n",
       "      <td>19214</td>\n",
       "      <td>1</td>\n",
       "      <td>2017</td>\n",
       "      <td>19214</td>\n",
       "    </tr>\n",
       "    <tr>\n",
       "      <th>transaction_month</th>\n",
       "      <td>19214</td>\n",
       "      <td>12</td>\n",
       "      <td>October</td>\n",
       "      <td>1705</td>\n",
       "    </tr>\n",
       "    <tr>\n",
       "      <th>transaction_quarter</th>\n",
       "      <td>19214</td>\n",
       "      <td>4</td>\n",
       "      <td>4</td>\n",
       "      <td>4882</td>\n",
       "    </tr>\n",
       "    <tr>\n",
       "      <th>transaction_day</th>\n",
       "      <td>19214</td>\n",
       "      <td>31</td>\n",
       "      <td>18</td>\n",
       "      <td>686</td>\n",
       "    </tr>\n",
       "    <tr>\n",
       "      <th>transaction_weekday</th>\n",
       "      <td>19214</td>\n",
       "      <td>7</td>\n",
       "      <td>Wednesday</td>\n",
       "      <td>2795</td>\n",
       "    </tr>\n",
       "  </tbody>\n",
       "</table>\n",
       "</div>"
      ],
      "text/plain": [
       "                     count unique        top   freq\n",
       "transaction_year     19214      1       2017  19214\n",
       "transaction_month    19214     12    October   1705\n",
       "transaction_quarter  19214      4          4   4882\n",
       "transaction_day      19214     31         18    686\n",
       "transaction_weekday  19214      7  Wednesday   2795"
      ]
     },
     "execution_count": 34,
     "metadata": {},
     "output_type": "execute_result"
    }
   ],
   "source": [
    "# descriptive statistic\n",
    "data_transaction[data_transaction.columns.tolist()[22:27]].describe().T"
   ]
  },
  {
   "cell_type": "markdown",
   "id": "476a6a94-5adc-4788-be86-d8e24b9840a0",
   "metadata": {},
   "source": [
    "- Transaction occured in 2017\n",
    "- Largest monthly transaction occur in October\n",
    "- Largest quarter transaction occur fourth in quarter\n",
    "- Largest daily transaction in a month usually occur on 18th\n",
    "- Largest daily transaction in a week usually occur on Wednesday"
   ]
  },
  {
   "cell_type": "markdown",
   "id": "616f1190-9c35-4e84-af72-b29ea02ea03b",
   "metadata": {
    "tags": []
   },
   "source": [
    "#### **Number of Transaction per Month**\n",
    "---"
   ]
  },
  {
   "cell_type": "code",
   "execution_count": 35,
   "id": "02340b97-2851-4e88-8c7c-45fbeeb1505b",
   "metadata": {},
   "outputs": [
    {
     "data": {
      "text/html": [
       "<div>\n",
       "<style scoped>\n",
       "    .dataframe tbody tr th:only-of-type {\n",
       "        vertical-align: middle;\n",
       "    }\n",
       "\n",
       "    .dataframe tbody tr th {\n",
       "        vertical-align: top;\n",
       "    }\n",
       "\n",
       "    .dataframe thead th {\n",
       "        text-align: right;\n",
       "    }\n",
       "</style>\n",
       "<table border=\"1\" class=\"dataframe\">\n",
       "  <thead>\n",
       "    <tr style=\"text-align: right;\">\n",
       "      <th></th>\n",
       "      <th>month</th>\n",
       "      <th>number_of_transaction</th>\n",
       "    </tr>\n",
       "  </thead>\n",
       "  <tbody>\n",
       "    <tr>\n",
       "      <th>4</th>\n",
       "      <td>January</td>\n",
       "      <td>1617</td>\n",
       "    </tr>\n",
       "    <tr>\n",
       "      <th>3</th>\n",
       "      <td>February</td>\n",
       "      <td>1571</td>\n",
       "    </tr>\n",
       "    <tr>\n",
       "      <th>7</th>\n",
       "      <td>March</td>\n",
       "      <td>1578</td>\n",
       "    </tr>\n",
       "    <tr>\n",
       "      <th>0</th>\n",
       "      <td>April</td>\n",
       "      <td>1590</td>\n",
       "    </tr>\n",
       "    <tr>\n",
       "      <th>8</th>\n",
       "      <td>May</td>\n",
       "      <td>1621</td>\n",
       "    </tr>\n",
       "    <tr>\n",
       "      <th>6</th>\n",
       "      <td>June</td>\n",
       "      <td>1513</td>\n",
       "    </tr>\n",
       "    <tr>\n",
       "      <th>5</th>\n",
       "      <td>July</td>\n",
       "      <td>1651</td>\n",
       "    </tr>\n",
       "    <tr>\n",
       "      <th>1</th>\n",
       "      <td>August</td>\n",
       "      <td>1683</td>\n",
       "    </tr>\n",
       "    <tr>\n",
       "      <th>11</th>\n",
       "      <td>September</td>\n",
       "      <td>1508</td>\n",
       "    </tr>\n",
       "    <tr>\n",
       "      <th>10</th>\n",
       "      <td>October</td>\n",
       "      <td>1705</td>\n",
       "    </tr>\n",
       "    <tr>\n",
       "      <th>9</th>\n",
       "      <td>November</td>\n",
       "      <td>1589</td>\n",
       "    </tr>\n",
       "    <tr>\n",
       "      <th>2</th>\n",
       "      <td>December</td>\n",
       "      <td>1588</td>\n",
       "    </tr>\n",
       "  </tbody>\n",
       "</table>\n",
       "</div>"
      ],
      "text/plain": [
       "        month  number_of_transaction\n",
       "4     January                   1617\n",
       "3    February                   1571\n",
       "7       March                   1578\n",
       "0       April                   1590\n",
       "8         May                   1621\n",
       "6        June                   1513\n",
       "5        July                   1651\n",
       "1      August                   1683\n",
       "11  September                   1508\n",
       "10    October                   1705\n",
       "9    November                   1589\n",
       "2    December                   1588"
      ]
     },
     "execution_count": 35,
     "metadata": {},
     "output_type": "execute_result"
    }
   ],
   "source": [
    "# aggregate by month\n",
    "transaction_per_month = data_transaction.groupby(['transaction_month'])[['customer_id']].count()\n",
    "transaction_per_month.reset_index(inplace=True)\n",
    "transaction_per_month.columns = ['month', 'number_of_transaction']\n",
    "\n",
    "# order by month\n",
    "month_order = ['January', 'February', 'March', 'April', 'May', 'June', 'July', 'August', 'September', 'October', 'November', 'December']\n",
    "transaction_per_month['month'] = pd.Categorical(transaction_per_month['month'], month_order)\n",
    "transaction_per_month.sort_values('month', inplace=True)\n",
    "transaction_per_month"
   ]
  },
  {
   "cell_type": "code",
   "execution_count": 36,
   "id": "95ded7e0-c63c-46ad-befd-caf234830cdd",
   "metadata": {},
   "outputs": [
    {
     "data": {
      "image/png": "[encoded data removed]",
      "text/plain": [
       "<Figure size 2000x500 with 1 Axes>"
      ]
     },
     "metadata": {},
     "output_type": "display_data"
    }
   ],
   "source": [
    "fig = plt.figure(figsize=(20, 5))\n",
    "\n",
    "fig.suptitle('Number of Transaction per Month', fontsize=20)\n",
    "plt.xlabel('Month', fontsize=20)\n",
    "plt.ylabel('Number of Transaction', fontsize=20)\n",
    "\n",
    "x = transaction_per_month['month']\n",
    "y = transaction_per_month['number_of_transaction']\n",
    "mean = y.mean()\n",
    "\n",
    "plt.plot(x, y, color = 'steelblue')\n",
    "plt.grid(color='darkgray', linestyle=':', linewidth=0.5)\n",
    "plt.axhline(y=mean, color='red', linestyle=':')\n",
    "plt.text(0.25, 0.5, 'Mean : Number of Transction', transform=fig.transFigure, color='red')\n",
    "plt.show()"
   ]
  },
  {
   "cell_type": "markdown",
   "id": "aa17da22-8dec-4670-bc56-174a1d98fd8e",
   "metadata": {},
   "source": [
    "It can be seen that transactions decreased dramatically in June and September. In the following month after this decrease, transactions increased significantly, as seen in July and October. Further analysis can be done to dig deeper into the causes of this."
   ]
  },
  {
   "cell_type": "markdown",
   "id": "ce249375-b98c-4b25-b0b8-bbd392fc1f50",
   "metadata": {
    "tags": []
   },
   "source": [
    "#### **Number of Transaction per Day**\n",
    "---"
   ]
  },
  {
   "cell_type": "code",
   "execution_count": 37,
   "id": "1589b0e1-3728-497d-b2bc-fbf1e2c7cb68",
   "metadata": {},
   "outputs": [
    {
     "data": {
      "text/html": [
       "<div>\n",
       "<style scoped>\n",
       "    .dataframe tbody tr th:only-of-type {\n",
       "        vertical-align: middle;\n",
       "    }\n",
       "\n",
       "    .dataframe tbody tr th {\n",
       "        vertical-align: top;\n",
       "    }\n",
       "\n",
       "    .dataframe thead th {\n",
       "        text-align: right;\n",
       "    }\n",
       "</style>\n",
       "<table border=\"1\" class=\"dataframe\">\n",
       "  <thead>\n",
       "    <tr style=\"text-align: right;\">\n",
       "      <th></th>\n",
       "      <th>month</th>\n",
       "      <th>day</th>\n",
       "      <th>number_of_transaction</th>\n",
       "    </tr>\n",
       "  </thead>\n",
       "  <tbody>\n",
       "    <tr>\n",
       "      <th>119</th>\n",
       "      <td>January</td>\n",
       "      <td>01</td>\n",
       "      <td>52</td>\n",
       "    </tr>\n",
       "    <tr>\n",
       "      <th>120</th>\n",
       "      <td>January</td>\n",
       "      <td>02</td>\n",
       "      <td>45</td>\n",
       "    </tr>\n",
       "    <tr>\n",
       "      <th>121</th>\n",
       "      <td>January</td>\n",
       "      <td>03</td>\n",
       "      <td>53</td>\n",
       "    </tr>\n",
       "    <tr>\n",
       "      <th>122</th>\n",
       "      <td>January</td>\n",
       "      <td>04</td>\n",
       "      <td>55</td>\n",
       "    </tr>\n",
       "    <tr>\n",
       "      <th>123</th>\n",
       "      <td>January</td>\n",
       "      <td>05</td>\n",
       "      <td>63</td>\n",
       "    </tr>\n",
       "    <tr>\n",
       "      <th>...</th>\n",
       "      <td>...</td>\n",
       "      <td>...</td>\n",
       "      <td>...</td>\n",
       "    </tr>\n",
       "    <tr>\n",
       "      <th>86</th>\n",
       "      <td>December</td>\n",
       "      <td>26</td>\n",
       "      <td>54</td>\n",
       "    </tr>\n",
       "    <tr>\n",
       "      <th>87</th>\n",
       "      <td>December</td>\n",
       "      <td>27</td>\n",
       "      <td>50</td>\n",
       "    </tr>\n",
       "    <tr>\n",
       "      <th>88</th>\n",
       "      <td>December</td>\n",
       "      <td>28</td>\n",
       "      <td>55</td>\n",
       "    </tr>\n",
       "    <tr>\n",
       "      <th>89</th>\n",
       "      <td>December</td>\n",
       "      <td>29</td>\n",
       "      <td>51</td>\n",
       "    </tr>\n",
       "    <tr>\n",
       "      <th>90</th>\n",
       "      <td>December</td>\n",
       "      <td>30</td>\n",
       "      <td>45</td>\n",
       "    </tr>\n",
       "  </tbody>\n",
       "</table>\n",
       "<p>364 rows × 3 columns</p>\n",
       "</div>"
      ],
      "text/plain": [
       "        month day  number_of_transaction\n",
       "119   January  01                     52\n",
       "120   January  02                     45\n",
       "121   January  03                     53\n",
       "122   January  04                     55\n",
       "123   January  05                     63\n",
       "..        ...  ..                    ...\n",
       "86   December  26                     54\n",
       "87   December  27                     50\n",
       "88   December  28                     55\n",
       "89   December  29                     51\n",
       "90   December  30                     45\n",
       "\n",
       "[364 rows x 3 columns]"
      ]
     },
     "execution_count": 37,
     "metadata": {},
     "output_type": "execute_result"
    }
   ],
   "source": [
    "month_daily_transaction = data_transaction.groupby(['transaction_month','transaction_day'])[['customer_id']].count()\n",
    "month_daily_transaction.reset_index(inplace=True)\n",
    "month_daily_transaction.columns = ['month','day','number_of_transaction']\n",
    "\n",
    "month_daily_transaction['month'] = pd.Categorical(month_daily_transaction['month'], month_order)\n",
    "month_daily_transaction.sort_values(['month','day'], inplace=True)\n",
    "month_daily_transaction"
   ]
  },
  {
   "cell_type": "code",
   "execution_count": 38,
   "id": "35bded9e-b667-4e23-a115-d2209a544224",
   "metadata": {},
   "outputs": [
    {
     "data": {
      "text/plain": [
       "<AxesSubplot: xlabel='day', ylabel='month'>"
      ]
     },
     "execution_count": 38,
     "metadata": {},
     "output_type": "execute_result"
    },
    {
     "data": {
      "image/png": "[encoded data removed]",
      "text/plain": [
       "<Figure size 2000x1000 with 2 Axes>"
      ]
     },
     "metadata": {},
     "output_type": "display_data"
    }
   ],
   "source": [
    "fig, ax = plt.subplots(figsize=(20,10))\n",
    "fig.suptitle('Number of Transaction per Month', fontsize=20)\n",
    "map = month_daily_transaction.pivot('month', 'day', 'number_of_transaction')\n",
    "sns.heatmap(map, cmap='coolwarm')"
   ]
  },
  {
   "cell_type": "markdown",
   "id": "7de755c7-3043-4d70-887e-02f590b87c0a",
   "metadata": {},
   "source": [
    "The number of transactions per day tends to fluctuate, with significant spikes on February 14th and August 18th."
   ]
  },
  {
   "cell_type": "markdown",
   "id": "4a0382e7-354f-4383-9a36-3a9238bb1565",
   "metadata": {
    "tags": []
   },
   "source": [
    "#### **Daily Transaction Trend**\n",
    "---"
   ]
  },
  {
   "cell_type": "code",
   "execution_count": 39,
   "id": "03014ced-8159-42a6-b880-6a483ca8444f",
   "metadata": {},
   "outputs": [
    {
     "data": {
      "text/html": [
       "<div>\n",
       "<style scoped>\n",
       "    .dataframe tbody tr th:only-of-type {\n",
       "        vertical-align: middle;\n",
       "    }\n",
       "\n",
       "    .dataframe tbody tr th {\n",
       "        vertical-align: top;\n",
       "    }\n",
       "\n",
       "    .dataframe thead th {\n",
       "        text-align: right;\n",
       "    }\n",
       "</style>\n",
       "<table border=\"1\" class=\"dataframe\">\n",
       "  <thead>\n",
       "    <tr style=\"text-align: right;\">\n",
       "      <th></th>\n",
       "      <th>weekday</th>\n",
       "      <th>number_of_transaction</th>\n",
       "    </tr>\n",
       "  </thead>\n",
       "  <tbody>\n",
       "    <tr>\n",
       "      <th>1</th>\n",
       "      <td>Monday</td>\n",
       "      <td>2763</td>\n",
       "    </tr>\n",
       "    <tr>\n",
       "      <th>5</th>\n",
       "      <td>Tuesday</td>\n",
       "      <td>2747</td>\n",
       "    </tr>\n",
       "    <tr>\n",
       "      <th>6</th>\n",
       "      <td>Wednesday</td>\n",
       "      <td>2795</td>\n",
       "    </tr>\n",
       "    <tr>\n",
       "      <th>4</th>\n",
       "      <td>Thursday</td>\n",
       "      <td>2690</td>\n",
       "    </tr>\n",
       "    <tr>\n",
       "      <th>0</th>\n",
       "      <td>Friday</td>\n",
       "      <td>2693</td>\n",
       "    </tr>\n",
       "    <tr>\n",
       "      <th>2</th>\n",
       "      <td>Saturday</td>\n",
       "      <td>2751</td>\n",
       "    </tr>\n",
       "    <tr>\n",
       "      <th>3</th>\n",
       "      <td>Sunday</td>\n",
       "      <td>2775</td>\n",
       "    </tr>\n",
       "  </tbody>\n",
       "</table>\n",
       "</div>"
      ],
      "text/plain": [
       "     weekday  number_of_transaction\n",
       "1     Monday                   2763\n",
       "5    Tuesday                   2747\n",
       "6  Wednesday                   2795\n",
       "4   Thursday                   2690\n",
       "0     Friday                   2693\n",
       "2   Saturday                   2751\n",
       "3     Sunday                   2775"
      ]
     },
     "execution_count": 39,
     "metadata": {},
     "output_type": "execute_result"
    }
   ],
   "source": [
    "daily_transaction = data_transaction.groupby(['transaction_weekday'])[['customer_id']].count()\n",
    "daily_transaction.reset_index(inplace=True)\n",
    "daily_transaction.columns = ['weekday','number_of_transaction']\n",
    "\n",
    "weekday_order = ['Monday', 'Tuesday', 'Wednesday', 'Thursday', 'Friday', 'Saturday', 'Sunday']\n",
    "daily_transaction['weekday'] = pd.Categorical(daily_transaction['weekday'], weekday_order)\n",
    "daily_transaction.sort_values('weekday', inplace=True)\n",
    "daily_transaction"
   ]
  },
  {
   "cell_type": "code",
   "execution_count": 40,
   "id": "0f9ac190-6557-4e4c-9361-c3125ca6708c",
   "metadata": {},
   "outputs": [
    {
     "data": {
      "image/png": "[encoded data removed]",
      "text/plain": [
       "<Figure size 1500x700 with 1 Axes>"
      ]
     },
     "metadata": {},
     "output_type": "display_data"
    }
   ],
   "source": [
    "fig = plt.figure(figsize=(15, 7))\n",
    "\n",
    "fig.suptitle('Daily Transaction Trend', fontsize=20)\n",
    "plt.xlabel('Weekday', fontsize=20)\n",
    "plt.ylabel('Number of Transaction', fontsize=20)\n",
    "\n",
    "x = daily_transaction['weekday']\n",
    "y = daily_transaction['number_of_transaction']\n",
    "mean = y.mean()\n",
    "\n",
    "colors = []\n",
    "for value in daily_transaction['number_of_transaction']:\n",
    "    if value < mean:\n",
    "        colors.append('darkorange')\n",
    "    else:\n",
    "        colors.append('steelblue')\n",
    "\n",
    "plt.bar(x, y, color=colors)\n",
    "plt.axhline(y=mean, color='r', linestyle=':')\n",
    "plt.text(0.5, 0.85, 'Mean : Number of Transaction', transform=fig.transFigure, color='r')\n",
    "plt.show()"
   ]
  },
  {
   "cell_type": "markdown",
   "id": "15816aef-875d-41ce-ab81-f66ba9feb9bd",
   "metadata": {},
   "source": [
    "- Overall, the number of daily transactions is not significantly different.\n",
    "- Wednesday is the busiest day.\n",
    "- Thursday - Friday are above average, when it comes to the weekend there is a decrease in transactions."
   ]
  },
  {
   "cell_type": "markdown",
   "id": "cab8a075-cd55-4b2c-bde1-9efb2dc2b60d",
   "metadata": {
    "tags": []
   },
   "source": [
    "## **2. Product Data**"
   ]
  },
  {
   "cell_type": "code",
   "execution_count": 41,
   "id": "d205991c-6ea5-4f8b-aefb-64751049795d",
   "metadata": {},
   "outputs": [],
   "source": [
    "data_product = data_merged.copy()"
   ]
  },
  {
   "cell_type": "code",
   "execution_count": 42,
   "id": "12955220-9162-49c4-881c-b04a60cc4551",
   "metadata": {},
   "outputs": [
    {
     "data": {
      "text/html": [
       "<div>\n",
       "<style scoped>\n",
       "    .dataframe tbody tr th:only-of-type {\n",
       "        vertical-align: middle;\n",
       "    }\n",
       "\n",
       "    .dataframe tbody tr th {\n",
       "        vertical-align: top;\n",
       "    }\n",
       "\n",
       "    .dataframe thead th {\n",
       "        text-align: right;\n",
       "    }\n",
       "</style>\n",
       "<table border=\"1\" class=\"dataframe\">\n",
       "  <thead>\n",
       "    <tr style=\"text-align: right;\">\n",
       "      <th></th>\n",
       "      <th>count</th>\n",
       "      <th>unique</th>\n",
       "      <th>top</th>\n",
       "      <th>freq</th>\n",
       "      <th>% top</th>\n",
       "    </tr>\n",
       "  </thead>\n",
       "  <tbody>\n",
       "    <tr>\n",
       "      <th>brand</th>\n",
       "      <td>19214</td>\n",
       "      <td>6</td>\n",
       "      <td>Solex</td>\n",
       "      <td>4117</td>\n",
       "      <td>21.427084</td>\n",
       "    </tr>\n",
       "    <tr>\n",
       "      <th>product_line</th>\n",
       "      <td>19214</td>\n",
       "      <td>4</td>\n",
       "      <td>Standard</td>\n",
       "      <td>13755</td>\n",
       "      <td>71.588425</td>\n",
       "    </tr>\n",
       "    <tr>\n",
       "      <th>product_class</th>\n",
       "      <td>19214</td>\n",
       "      <td>3</td>\n",
       "      <td>medium</td>\n",
       "      <td>13420</td>\n",
       "      <td>69.844905</td>\n",
       "    </tr>\n",
       "    <tr>\n",
       "      <th>product_size</th>\n",
       "      <td>19214</td>\n",
       "      <td>3</td>\n",
       "      <td>medium</td>\n",
       "      <td>12620</td>\n",
       "      <td>65.681274</td>\n",
       "    </tr>\n",
       "  </tbody>\n",
       "</table>\n",
       "</div>"
      ],
      "text/plain": [
       "               count unique       top   freq      % top\n",
       "brand          19214      6     Solex   4117  21.427084\n",
       "product_line   19214      4  Standard  13755  71.588425\n",
       "product_class  19214      3    medium  13420  69.844905\n",
       "product_size   19214      3    medium  12620  65.681274"
      ]
     },
     "execution_count": 42,
     "metadata": {},
     "output_type": "execute_result"
    }
   ],
   "source": [
    "stat = data_product[['brand', 'product_line', 'product_class', 'product_size']].describe().T\n",
    "stat['% top'] = stat['freq']/stat['count']*100\n",
    "stat"
   ]
  },
  {
   "cell_type": "markdown",
   "id": "69c20d78-b5d8-420a-a0e6-c47159146fbb",
   "metadata": {},
   "source": [
    "- The brand most purchased by customers is Solex with a percentage of 21.43%.\n",
    "- The majority of customers 71.59% purchased Standard bikes.\n",
    "- There are 69.84% of customers purchased a medium class bicycle.\n",
    "- There are 65.68% of customers purchase a medium size bicycle.\n"
   ]
  },
  {
   "cell_type": "code",
   "execution_count": 43,
   "id": "7b411223-b562-4f18-8a47-b7e9622e35d7",
   "metadata": {},
   "outputs": [
    {
     "ename": "NameError",
     "evalue": "name 'data_cust' is not defined",
     "output_type": "error",
     "traceback": [
      "\u001b[1;31m---------------------------------------------------------------------------\u001b[0m",
      "\u001b[1;31mNameError\u001b[0m                                 Traceback (most recent call last)",
      "Cell \u001b[1;32mIn[43], line 2\u001b[0m\n\u001b[0;32m      1\u001b[0m \u001b[38;5;66;03m# brand percentage\u001b[39;00m\n\u001b[1;32m----> 2\u001b[0m brand \u001b[38;5;241m=\u001b[39m \u001b[43mdata_cust\u001b[49m[\u001b[38;5;124m'\u001b[39m\u001b[38;5;124mbrand\u001b[39m\u001b[38;5;124m'\u001b[39m]\u001b[38;5;241m.\u001b[39mvalue_counts()\u001b[38;5;241m.\u001b[39mreset_index()\n\u001b[0;32m      3\u001b[0m brand\u001b[38;5;241m.\u001b[39mcolumns \u001b[38;5;241m=\u001b[39m [\u001b[38;5;124m'\u001b[39m\u001b[38;5;124mbrand\u001b[39m\u001b[38;5;124m'\u001b[39m, \u001b[38;5;124m'\u001b[39m\u001b[38;5;124mcount\u001b[39m\u001b[38;5;124m'\u001b[39m]\n\u001b[0;32m      4\u001b[0m brand[\u001b[38;5;124m'\u001b[39m\u001b[38;5;124mpercentage\u001b[39m\u001b[38;5;124m'\u001b[39m] \u001b[38;5;241m=\u001b[39m (brand[\u001b[38;5;124m'\u001b[39m\u001b[38;5;124mcount\u001b[39m\u001b[38;5;124m'\u001b[39m]\u001b[38;5;241m/\u001b[39mbrand[\u001b[38;5;124m'\u001b[39m\u001b[38;5;124mcount\u001b[39m\u001b[38;5;124m'\u001b[39m]\u001b[38;5;241m.\u001b[39msum()\u001b[38;5;241m*\u001b[39m\u001b[38;5;241m100\u001b[39m)\u001b[38;5;241m.\u001b[39mround(\u001b[38;5;241m2\u001b[39m)\n",
      "\u001b[1;31mNameError\u001b[0m: name 'data_cust' is not defined"
     ]
    }
   ],
   "source": [
    "# brand percentage\n",
    "brand = data_cust['brand'].value_counts().reset_index()\n",
    "brand.columns = ['brand', 'count']\n",
    "brand['percentage'] = (brand['count']/brand['count'].sum()*100).round(2)\n",
    "brand"
   ]
  },
  {
   "cell_type": "code",
   "execution_count": null,
   "id": "de3ab467-210d-4b22-b9fa-8648eb5fe572",
   "metadata": {},
   "outputs": [],
   "source": [
    "# visualizing job industry\n",
    "fig, ax = plt.subplots(figsize=(10,5))\n",
    "\n",
    "brand_sort = brand.sort_values(by=['percentage']).reset_index(drop=True)\n",
    "\n",
    "bars = plt.barh(y=brand_sort['brand'], width= brand_sort['percentage'])\n",
    "plt.bar_label(ax.containers[0]) \n",
    "plt.title('Percentage of Brand', fontsize=16)\n",
    "plt.xlabel('Brand',fontsize=12)\n",
    "plt.ylabel('Percentage',fontsize=12)"
   ]
  },
  {
   "cell_type": "markdown",
   "id": "29c84282-a1ae-4126-83f2-8b17c7ac0c19",
   "metadata": {},
   "source": [
    "#### **Percentage of Product Line with Brand Distribution**\n",
    "---"
   ]
  },
  {
   "cell_type": "code",
   "execution_count": null,
   "id": "fffd2517-f20c-469b-b8a5-320f1e064846",
   "metadata": {},
   "outputs": [],
   "source": [
    "line = data_product.groupby(['brand', 'product_line'])['product_line'].count()\n",
    "line = line.reset_index(name='count')\n",
    "line['percentage'] =  (100 * line['count'] / line.groupby('brand')['count'].transform('sum')).round(2)\n",
    "\n",
    "pvt = line.pivot_table(columns='product_line', index='brand', values=['count', 'percentage'])\n",
    "pvt.fillna(0)"
   ]
  },
  {
   "cell_type": "code",
   "execution_count": null,
   "id": "e44981b8-5b8a-4d3a-a1dc-be466e12c4db",
   "metadata": {},
   "outputs": [],
   "source": [
    "pvt_count = line.pivot_table(index='brand', columns='product_line', values='percentage')\n",
    "\n",
    "ax = pvt_count.plot(kind='barh', stacked=True)\n",
    "plt.title('Percentage of Product Line By Brand')\n",
    "plt.xticks(rotation=360)\n",
    "\n",
    "for p in ax.patches:\n",
    "    left, bottom, width, height = p.get_bbox().bounds\n",
    "    ax.annotate(str(round(width, 2)), xy=(left+width/2, bottom+height/2), \n",
    "                ha='center', va='center', fontsize=7)\n",
    "    \n",
    "plt.legend(bbox_to_anchor=(1.2, 0.65), fontsize=12)"
   ]
  },
  {
   "cell_type": "markdown",
   "id": "069591eb-6c09-40b6-85c8-31cb0a9fd6e5",
   "metadata": {},
   "source": [
    "#### **Percentage of Product Class with Brand Distribution**\n",
    "---"
   ]
  },
  {
   "cell_type": "code",
   "execution_count": null,
   "id": "ee9c1dda-d7b7-4985-866b-1f85764097bc",
   "metadata": {},
   "outputs": [],
   "source": [
    "clas = data_product.groupby(['brand', 'product_class'])['product_class'].count()\n",
    "clas = clas.reset_index(name='count')\n",
    "clas['percentage'] =  (100 * clas['count'] / clas.groupby('brand')['count'].transform('sum')).round(2)\n",
    "\n",
    "pvt = clas.pivot_table(columns='product_class', index='brand', values=['count', 'percentage'])\n",
    "pvt.fillna(0)"
   ]
  },
  {
   "cell_type": "code",
   "execution_count": null,
   "id": "5bbe17c1-6d31-479e-b0b3-391ca9145ebb",
   "metadata": {},
   "outputs": [],
   "source": [
    "pvt_count = clas.pivot_table(index='brand', columns='product_class', values='percentage')\n",
    "\n",
    "ax = pvt_count.plot(kind='barh', stacked=True)\n",
    "plt.title('Percentage of Product Class By Brand')\n",
    "plt.xticks(rotation=360)\n",
    "\n",
    "for p in ax.patches:\n",
    "    left, bottom, width, height = p.get_bbox().bounds\n",
    "    ax.annotate(str(round(width, 2)), xy=(left+width/2, bottom+height/2), \n",
    "                ha='center', va='center', fontsize=7)\n",
    "    \n",
    "plt.legend(bbox_to_anchor=(1.2, 0.65), fontsize=12)"
   ]
  },
  {
   "cell_type": "markdown",
   "id": "1a9c72fe-b511-4ef7-93a1-a0b3c7c9113d",
   "metadata": {},
   "source": [
    "#### **Percentage of Product Size with Brand Distribution**\n",
    "---"
   ]
  },
  {
   "cell_type": "code",
   "execution_count": null,
   "id": "828a69f8-759e-44d8-9770-89e745599557",
   "metadata": {},
   "outputs": [],
   "source": [
    "size = data_product.groupby(['brand', 'product_size'])['product_size'].count()\n",
    "size = size.reset_index(name='count')\n",
    "size['percentage'] =  (100 * size['count'] / size.groupby('brand')['count'].transform('sum')).round(2)\n",
    "\n",
    "pvt = size.pivot_table(columns='product_size', index='brand', values=['count', 'percentage'])\n",
    "pvt"
   ]
  },
  {
   "cell_type": "code",
   "execution_count": null,
   "id": "2c540582-de38-4f11-8633-74606cb15376",
   "metadata": {},
   "outputs": [],
   "source": [
    "pvt_count = size.pivot_table(index='brand', columns='product_size', values='percentage')\n",
    "\n",
    "ax = pvt_count.plot(kind='barh', stacked=True)\n",
    "plt.title('Percentage of Product Size By Brand')\n",
    "plt.xticks(rotation=360)\n",
    "\n",
    "for p in ax.patches:\n",
    "    left, bottom, width, height = p.get_bbox().bounds\n",
    "    ax.annotate(str(round(width, 2)), xy=(left+width/2, bottom+height/2), \n",
    "                ha='center', va='center', fontsize=7)\n",
    "    \n",
    "plt.legend(bbox_to_anchor=(1.2, 0.65), fontsize=12)"
   ]
  },
  {
   "cell_type": "markdown",
   "id": "a40ddc6c-4651-4657-912c-42354c4edb5f",
   "metadata": {
    "tags": []
   },
   "source": [
    "## **3. Customer Data**"
   ]
  },
  {
   "cell_type": "code",
   "execution_count": null,
   "id": "295474b7-0255-4191-9f5e-e9e26efa350e",
   "metadata": {},
   "outputs": [],
   "source": [
    "data_cust = data_merged.copy()"
   ]
  },
  {
   "cell_type": "code",
   "execution_count": null,
   "id": "ed2d6be2-9b13-4682-b985-bda6effa4b89",
   "metadata": {},
   "outputs": [],
   "source": [
    "stat = data_cust[['gender', 'job_title', 'job_industry_category', 'wealth_segment', 'owns_car', 'state']].describe().T\n",
    "stat['% top'] = stat['freq']/stat['count']*100\n",
    "stat"
   ]
  },
  {
   "cell_type": "markdown",
   "id": "434f73a6-8d90-4278-beea-d1d047a1fdda",
   "metadata": {},
   "source": [
    "- There are 52.38% of customers are female.\n",
    "- Customers have a variety of job titles with the top job title of 1.26% as Legal Assistants.\n",
    "- There are 23.49% of customers work in the manufacturing industry.\n",
    "- There are 50.26% of customers come from Mass Customers.\n",
    "- There are 50.47% of customers having own car.\n",
    "- The majority of customers, 53.37%, are from New South Wales."
   ]
  },
  {
   "cell_type": "markdown",
   "id": "203649aa-6f83-42e8-988c-bb293165e74d",
   "metadata": {},
   "source": [
    "#### **Wealth Segment**\n",
    "---"
   ]
  },
  {
   "cell_type": "code",
   "execution_count": null,
   "id": "6253a772-f2f0-4b23-ba91-fb245bd18150",
   "metadata": {},
   "outputs": [],
   "source": [
    "# wealth segment percentage\n",
    "wealth = data_cust['wealth_segment'].value_counts().reset_index()\n",
    "wealth.columns = ['wealth_segment', 'count']\n",
    "wealth['percentage'] = (wealth['count']/wealth['count'].sum()*100).round(2)\n",
    "wealth"
   ]
  },
  {
   "cell_type": "markdown",
   "id": "5cdf5f1d-72e2-45c9-ba06-e99a38358427",
   "metadata": {},
   "source": [
    "#### **State**\n",
    "---"
   ]
  },
  {
   "cell_type": "code",
   "execution_count": null,
   "id": "414a362e-49e8-40cd-84a6-fb3aebe37738",
   "metadata": {},
   "outputs": [],
   "source": [
    "# state percentage\n",
    "state = data_cust['state'].value_counts().reset_index()\n",
    "state.columns = ['state', 'count']\n",
    "state['percentage'] = (state['count']/state['count'].sum()*100).round(2)\n",
    "state"
   ]
  },
  {
   "cell_type": "markdown",
   "id": "03e22a88-a21b-49eb-bf47-732e46f9627f",
   "metadata": {
    "tags": []
   },
   "source": [
    "#### **Job Industry**\n",
    "---"
   ]
  },
  {
   "cell_type": "code",
   "execution_count": null,
   "id": "f9a0080c-b5a3-4fab-8d50-4ed5cf09f2bf",
   "metadata": {},
   "outputs": [],
   "source": [
    "# job industry percentage\n",
    "industry = data_cust['job_industry_category'].value_counts().reset_index()\n",
    "industry.columns = ['job_industry', 'count']\n",
    "industry['percentage'] = (industry['count']/industry['count'].sum()*100).round(2)\n",
    "industry"
   ]
  },
  {
   "cell_type": "code",
   "execution_count": null,
   "id": "203e9f66-1ffd-4853-9353-5342e648f3b8",
   "metadata": {},
   "outputs": [],
   "source": [
    "# top 10 job title\n",
    "title = data_cust['job_title'].value_counts().reset_index()\n",
    "title.columns = ['job_title', 'count']\n",
    "title['percentage'] = (title['count']/title['count'].sum()*100).round(2)\n",
    "top10title = title.head(10)\n",
    "top10title"
   ]
  },
  {
   "cell_type": "markdown",
   "id": "f8c1c075-3718-48de-8f21-e28ecad67239",
   "metadata": {},
   "source": [
    "# **RFM ANALYSIS**\n",
    "---"
   ]
  },
  {
   "cell_type": "markdown",
   "id": "97cae7b4-3bba-4116-9395-a167d9ed23b8",
   "metadata": {},
   "source": [
    "## **1. Data Preparation**"
   ]
  },
  {
   "cell_type": "markdown",
   "id": "1020cffa-7bdb-45a6-8e68-725c66a33512",
   "metadata": {},
   "source": [
    "Before segmenting, we must find the recency, frequency, and monetary values. To get the recency value, we have to calculate the last purchase from the transaction_date column. And to get the monetary value, we have to create a new profit column. "
   ]
  },
  {
   "cell_type": "code",
   "execution_count": null,
   "id": "cf90be46-6cec-460a-a094-68bc4debe011",
   "metadata": {},
   "outputs": [],
   "source": [
    "data_rfm = data_merged.copy()"
   ]
  },
  {
   "cell_type": "code",
   "execution_count": null,
   "id": "aca109f6-af7d-4093-a2f4-1bbb9b42b1e1",
   "metadata": {},
   "outputs": [],
   "source": [
    "# making last purchase column for recency\n",
    "most_recent_purchase = data_rfm['transaction_date'].max()\n",
    "data_rfm['last_purchase_days_ago'] = most_recent_purchase - data_rfm['transaction_date']\n",
    "data_rfm['last_purchase_days_ago'] /= np.timedelta64(1, 'D')\n",
    "data_rfm['last_purchase_days_ago'] = data_rfm['last_purchase_days_ago'].astype('int64')\n",
    "\n",
    "# making column profit for monetery\n",
    "data_rfm['profit'] = data_rfm['list_price'] - data_rfm['standard_cost']"
   ]
  },
  {
   "cell_type": "markdown",
   "id": "691cb688-2e21-44c6-8d9b-69132adaf9f0",
   "metadata": {},
   "source": [
    "## **2. Data Aggregation**"
   ]
  },
  {
   "cell_type": "markdown",
   "id": "d30244c1-e12d-4af1-b935-177783c85da5",
   "metadata": {},
   "source": [
    "RFM is abasic customer segmentation algorithm based on their purchasing behaviour. The behaviour is identified by using only three customer data points:\n",
    "1. The recency value of each customer is obtained from the smallest recency value from the dataset.\n",
    "2. The frequency value of each customer is obtained from the count of transactions they place.\n",
    "3. The monetary value of each customer is obtained from the profit (list_price - standard_cost)."
   ]
  },
  {
   "cell_type": "code",
   "execution_count": null,
   "id": "638af957-fc4d-468f-9b33-08d8215d4274",
   "metadata": {},
   "outputs": [],
   "source": [
    "# making rfm table\n",
    "rfm_table = data_rfm.groupby('customer_id').agg({'last_purchase_days_ago': lambda x: x.min(),\n",
    "                                                    'customer_id': lambda x: len(x),\n",
    "                                                    'profit': lambda x: x.sum()})\n",
    "\n",
    "rfm_table.rename(columns={'last_purchase_days_ago': 'recency', \n",
    "                          'customer_id': 'frequency', \n",
    "                          'profit': 'monetary'}, inplace=True)"
   ]
  },
  {
   "cell_type": "code",
   "execution_count": null,
   "id": "a52818b1-dc6d-4b3a-ad57-4455956ea455",
   "metadata": {},
   "outputs": [],
   "source": [
    "rfm_table"
   ]
  },
  {
   "cell_type": "code",
   "execution_count": null,
   "id": "c27dc35a-054d-4c23-9d46-2d3fc30920c2",
   "metadata": {},
   "outputs": [],
   "source": [
    "# looking distribution\n",
    "rfm = ['recency', 'frequency', 'monetary']\n",
    "\n",
    "plt.figure(figsize=(8, 8))\n",
    "for i in range(0, len(rfm)):\n",
    "    plt.subplot(len(rfm), 1, i+1)\n",
    "    sns.distplot(rfm_table[rfm[i]], color='orange')\n",
    "    plt.tight_layout()"
   ]
  },
  {
   "cell_type": "markdown",
   "id": "549eaff6-fe6d-4147-a295-bc5f649925c0",
   "metadata": {},
   "source": [
    "All data looks right-skewed."
   ]
  },
  {
   "cell_type": "markdown",
   "id": "c6192152-0630-4af9-bf6b-40752403105a",
   "metadata": {},
   "source": [
    "## **3. Scoring**"
   ]
  },
  {
   "cell_type": "markdown",
   "id": "4555bb07-b69d-47c7-bb27-fda67794572f",
   "metadata": {},
   "source": [
    "The qcut function will calculate the score in the column according to the quartile calculation, the output is a range of 1-5. Customers get more points if they make frequent purchases, make a lot of purchases, and spend a lot of money."
   ]
  },
  {
   "cell_type": "code",
   "execution_count": null,
   "id": "977968dd-61a7-4804-b884-46ce3717bd09",
   "metadata": {},
   "outputs": [],
   "source": [
    "# Recency, if the transaction happened recently give 5 points . \n",
    "rfm_table['R_score'] = pd.qcut(rfm_table['recency'], 5, labels=[5, 4, 3, 2, 1])\n",
    "\n",
    "# Frequency, 5 = Most frequent , 1 = rarely\n",
    "rfm_table['F_score'] = pd.qcut(rfm_table['frequency'].rank(method='first'), 5, labels=[1, 2, 3, 4, 5])\n",
    "\n",
    "# Monetery, 5 = best, 1 = least\n",
    "rfm_table['M_score'] = pd.qcut(rfm_table['monetary'], 5, labels=[1, 2, 3, 4, 5])\n",
    "rfm_table.head(5)"
   ]
  },
  {
   "cell_type": "markdown",
   "id": "f0b31779-dda6-44ad-97f6-f81bdef048c9",
   "metadata": {},
   "source": [
    "Calculate the overall RFM score\n",
    "This step can be done in two ways:\n",
    "\n",
    "- Concatenation: creating segments Here we just concatenate (not add) individual RFM scores like strings and get labeled segments in return. The highest is 555 and the lowest is 111.\n",
    "- Addition: creates a score, here we find the average of the individual RFM scores indicating the customer's score. Highest 5 and lowest 1."
   ]
  },
  {
   "cell_type": "code",
   "execution_count": null,
   "id": "7569d2cf-c1ac-4221-b0b6-fe57d734566e",
   "metadata": {},
   "outputs": [],
   "source": [
    "# creating rfm score\n",
    "rfm_table['RFM_segment'] = rfm_table['R_score'].astype(str) + rfm_table['F_score'].astype(str) + rfm_table['M_score'].astype(str)\n",
    "rfm_table['RFM_score'] = ((rfm_table['R_score'].astype('int64') + rfm_table['F_score'].astype('int64') + rfm_table['M_score'].astype('int64')) / 3).round(2)"
   ]
  },
  {
   "cell_type": "code",
   "execution_count": null,
   "id": "8b207917-a0b3-4b14-88e7-dbc11fb4be9a",
   "metadata": {},
   "outputs": [],
   "source": [
    "rfm_table.sample(5)"
   ]
  },
  {
   "cell_type": "markdown",
   "id": "7e30fb07-d88b-420d-8d29-20bea1d50e07",
   "metadata": {},
   "source": [
    "## 4. **Segmentation and Score Labeling**"
   ]
  },
  {
   "cell_type": "markdown",
   "id": "8a56c24b-d827-46d0-832e-980c9d06f59c",
   "metadata": {},
   "source": [
    "After calculations on the RFM data we can create customer segments:\n",
    "\n",
    "| **Segment** | **Interpretation** |\n",
    "|----|----|\n",
    "| **Champions** | Bought recently, buy often and spend the most. |\n",
    "| **Loyal customers**| Buy on a regular basis. Responsive to promotions. |\n",
    "| **Potential loyalist** | Recent customers with average frequency. |\n",
    "| **Recent customers** | Bought most recently, but not often. |\n",
    "| **Promising** | Recent shoppers, but haven’t spent much. |\n",
    "| **Needs attention** | Above average recency, frequency and monetary values. May not have bought very recently though. |\n",
    "| **About to sleep** | Below average recency and frequency. Will lose them if not reactivated. |\n",
    "| **At risk** | Some time since they’ve purchased. Need to bring them back! |\n",
    "| **Can’t lose them** | Used to purchase frequently but haven’t returned for a long time. |\n",
    "| **Hibernating** | Last purchase was long back and low number of orders. May be lost. |"
   ]
  },
  {
   "cell_type": "markdown",
   "id": "dd18e2e3-4174-41af-be58-042b37b53a9a",
   "metadata": {},
   "source": [
    "We will use Recency and Frequency to segment our customers and determined how to segment customers using regex."
   ]
  },
  {
   "cell_type": "code",
   "execution_count": null,
   "id": "e23bb7a8-1277-4b55-aa73-21bfb6812c6e",
   "metadata": {},
   "outputs": [],
   "source": [
    "# creating segment\n",
    "seg_map = {\n",
    "    r'[1-2][1-2]': 'Hibernating',\n",
    "    r'[1-2][3-4]': 'At Risk',\n",
    "    r'[1-2]5': 'Can\\'t Loose',\n",
    "    r'3[1-2]': 'About to Sleep',\n",
    "    r'33': 'Need Attention',\n",
    "    r'[3-4][4-5]': 'Loyal Customers',\n",
    "    r'41': 'Promising',\n",
    "    r'51': 'New Customers',\n",
    "    r'[4-5][2-3]': 'Potential Loyalists',\n",
    "    r'5[4-5]': 'Champions'\n",
    "}"
   ]
  },
  {
   "cell_type": "code",
   "execution_count": null,
   "id": "bb9f3836-42e0-4108-9bf6-eddb0181f9c6",
   "metadata": {},
   "outputs": [],
   "source": [
    "# applying segment\n",
    "rfm_table['Segment'] = rfm_table['R_score'].astype(str) + rfm_table['F_score'].astype(str)\n",
    "rfm_table['Segment'] = rfm_table['Segment'].replace(seg_map, regex=True)"
   ]
  },
  {
   "cell_type": "markdown",
   "id": "ca092e7a-e11a-448f-bc29-4c9d1bc13b69",
   "metadata": {},
   "source": [
    "Customer score:\n",
    "\n",
    "| **Score** | RFM_Score |\n",
    "|---|---|\n",
    "| **Diamond** | 5 - 4.1 |\n",
    "| **Platinum** | 4 - 3.1 |\n",
    "| **Gold** | 3 - 2.1 |\n",
    "| **Silver** | 2 - 1.1 |\n",
    "| **Bronze** | 1 - 0 |"
   ]
  },
  {
   "cell_type": "code",
   "execution_count": null,
   "id": "87f1401e-a247-4cde-b4ff-4fe67ae9c9df",
   "metadata": {},
   "outputs": [],
   "source": [
    "# create labels for the scores\n",
    "rfm_table['Score'] = np.where(rfm_table['RFM_score'] > 4, 'Diamond',\n",
    "                              np.where(rfm_table['RFM_score'] > 3, 'Platinum',\n",
    "                                       np.where(rfm_table['RFM_score'] > 2, 'Gold',\n",
    "                                                np.where(rfm_table['RFM_score'] > 1, 'Silver',\n",
    "                                                         'Bronze'))))"
   ]
  },
  {
   "cell_type": "code",
   "execution_count": null,
   "id": "8fcee1dd-0f3b-4fbb-9700-db6b0c66c959",
   "metadata": {},
   "outputs": [],
   "source": [
    "rfm_table.sample(10)"
   ]
  },
  {
   "cell_type": "markdown",
   "id": "0be8c441-4363-4d1e-92e4-1a6dbbe9f6b5",
   "metadata": {},
   "source": [
    "## **5. Analysis**"
   ]
  },
  {
   "cell_type": "code",
   "execution_count": null,
   "id": "5307cffa-5298-45d4-a8c1-453266e89e18",
   "metadata": {},
   "outputs": [],
   "source": [
    "rfm_data = rfm_table.reset_index().copy()"
   ]
  },
  {
   "cell_type": "markdown",
   "id": "01045647-1afe-4c6f-a805-8c279d77314b",
   "metadata": {},
   "source": [
    "### **5.1. Statistical Summary**"
   ]
  },
  {
   "cell_type": "markdown",
   "id": "864fd787-7273-4405-9f6b-009479c17d99",
   "metadata": {
    "tags": []
   },
   "source": [
    "#### **Recency vs Frequency**\n",
    "---"
   ]
  },
  {
   "cell_type": "code",
   "execution_count": null,
   "id": "504ce01b-13ed-4da8-8065-437c978686ed",
   "metadata": {},
   "outputs": [],
   "source": [
    "data = pd.DataFrame(data=rfm_data,columns=['customer_id','Score','recency','frequency','monetary'])\n",
    "\n",
    "# plot data with seaborn\n",
    "facet = sns.scatterplot(data=data, x='recency', y='frequency', hue='Score', palette='tab10')"
   ]
  },
  {
   "cell_type": "markdown",
   "id": "8d093db2-47ef-474e-b3ae-f2ac5f4b8809",
   "metadata": {},
   "source": [
    "A high frequency is found with customers who have a recent purchase within average of two months."
   ]
  },
  {
   "cell_type": "markdown",
   "id": "80dff429-9d79-403b-8d7e-4c503dcf34f2",
   "metadata": {
    "tags": []
   },
   "source": [
    "#### **Monetery vs Frequency**\n",
    "---"
   ]
  },
  {
   "cell_type": "code",
   "execution_count": null,
   "id": "760c0e33-b5da-4fd6-a824-375c32230538",
   "metadata": {},
   "outputs": [],
   "source": [
    "# plot data with seaborn\n",
    "facet = sns.scatterplot(data=data, x='monetary', y='frequency', hue='Score', palette='tab10')"
   ]
  },
  {
   "cell_type": "markdown",
   "id": "76211606-dc21-43c6-ba1b-b310288d8a1b",
   "metadata": {},
   "source": [
    "Customers who buy frequently spend less money."
   ]
  },
  {
   "cell_type": "markdown",
   "id": "703af2ec-d960-4312-8367-c278c6c37694",
   "metadata": {
    "tags": []
   },
   "source": [
    "#### **Recency vs Frequency vs Monetary**\n",
    "---"
   ]
  },
  {
   "cell_type": "code",
   "execution_count": null,
   "id": "525aa763-ac89-4b81-ac89-c9d58c9371d4",
   "metadata": {},
   "outputs": [],
   "source": [
    "# rfm_data['Score'] = rfm_data['Score'].astype(str)\n",
    "import plotly.express as px\n",
    "\n",
    "plt.figure(figsize=(20, 20))\n",
    "\n",
    "fig = px.scatter_3d(rfm_data,x='recency', y='frequency', z='monetary',\n",
    "              color='Score', opacity=0.9,color_discrete_sequence=px.colors.qualitative.G10)\n",
    "\n",
    "fig.update_layout(margin=dict(l=0, r=0, b=0, t=0))\n",
    "fig.show()"
   ]
  },
  {
   "cell_type": "markdown",
   "id": "fc2e99d8-3417-4ed8-95ae-b727e15af7e0",
   "metadata": {},
   "source": [
    "In the above plot, the color specifies Cluster. From the above plot, we can see how the customers are spread among Recency, Frequency and Monetary dimension"
   ]
  },
  {
   "cell_type": "markdown",
   "id": "b5b5c8bf-649b-44cc-a108-7e5fe8af4fe5",
   "metadata": {
    "tags": []
   },
   "source": [
    "#### **Score**\n",
    "---"
   ]
  },
  {
   "cell_type": "code",
   "execution_count": null,
   "id": "4039e869-183e-45c1-bef9-4771b2e972d6",
   "metadata": {},
   "outputs": [],
   "source": [
    "# create agg dictionary\n",
    "agg_dict = {'customer_id': 'count', \n",
    "            'recency': 'mean',\n",
    "            'frequency': 'mean',\n",
    "            'monetary': 'mean'}"
   ]
  },
  {
   "cell_type": "code",
   "execution_count": null,
   "id": "429201d4-a92d-4cc0-a9e2-eb5f61ade4a6",
   "metadata": {},
   "outputs": [],
   "source": [
    "score_cat =['Diamond', 'Platinum', 'Gold', 'Silver', 'Bronze']\n",
    "rfm_data['Score'] = pd.Categorical(rfm_data['Score'], categories = score_cat)\n",
    "\n",
    "df_sc = rfm_data.groupby('Score').agg(agg_dict).reset_index()\n",
    "df_sc.rename({'Score': 'Score', 'customer_id': 'count'}, axis=1, inplace=True)\n",
    "df_sc['count %'] = (100 * df_sc['count'] / df_sc['count'].sum()).round(2)\n",
    "df_sc['monetary %'] = (100 * df_sc['monetary'] / df_sc['monetary'].sum()).round(2)\n",
    "df_sc"
   ]
  },
  {
   "cell_type": "code",
   "execution_count": null,
   "id": "2fc6e97e-165a-4237-a622-f977471820a8",
   "metadata": {},
   "outputs": [],
   "source": [
    "# bar chart - count\n",
    "fig, ax = plt.subplots(nrows=2,ncols=1,figsize=(10,10))\n",
    "\n",
    "ax[0].bar(x='Score', height='count %', data=df_sc, color=sns.color_palette('tab10'))\n",
    "ax[1].bar(x='Score', height='monetary %', data=df_sc, color=sns.color_palette('tab10'))\n",
    "\n",
    "ax[0].set_ylabel('')\n",
    "ax[0].set_title('Percentage Customer Count by Score', fontsize=14)\n",
    "\n",
    "ax[1].set_ylabel('')\n",
    "ax[1].set_title('Percentage Customer Monetary by Score', fontsize=14)\n",
    "\n",
    "for p in ax[0].patches:\n",
    "    ax[0].annotate('{:.0f}%'.format(p.get_height()), (p.get_x()+0.25, p.get_height()+0.3))\n",
    "for p in ax[1].patches:\n",
    "    ax[1].annotate('{:.0f}%'.format(p.get_height()), (p.get_x()+0.25, p.get_height()+0.3))"
   ]
  },
  {
   "cell_type": "markdown",
   "id": "eeb735fb-b517-4af2-b0fd-56389ee8666b",
   "metadata": {},
   "source": [
    "- Most of customer is Platinum with a percentage of profit contribution (monetary) of 27%.\n",
    "- Customers who contribute the most to generating the highest profit are Diamond, which is 39%. However, the number of these customers is low enough which is only 17%."
   ]
  },
  {
   "cell_type": "markdown",
   "id": "3d686830-4f7f-4a5d-976c-42eab252d9fd",
   "metadata": {
    "tags": []
   },
   "source": [
    "#### **Segment**\n",
    "---"
   ]
  },
  {
   "cell_type": "code",
   "execution_count": null,
   "id": "fcf5b884-fd70-4cd0-8571-ba3822bf2861",
   "metadata": {},
   "outputs": [],
   "source": [
    "df_seg = rfm_data.groupby('Segment').agg(agg_dict).reset_index()\n",
    "df_seg.rename({'Segment': 'Segment', 'customer_id': 'count'}, axis=1, inplace=True)\n",
    "df_seg['count %'] = (100 * df_seg['count'] / df_seg['count'].sum()).round(2)\n",
    "df_seg['monetary %'] = (100 * df_seg['monetary'] / df_seg['monetary'].sum()).round(2)\n",
    "df_seg.sort_values(by='count', ascending=False, inplace=True)\n",
    "df_seg"
   ]
  },
  {
   "cell_type": "code",
   "execution_count": null,
   "id": "2bb8a6bc-9fba-4d0f-908e-96042d33853b",
   "metadata": {},
   "outputs": [],
   "source": [
    "import squarify\n",
    "import matplotlib.pyplot as plt\n",
    "\n",
    "for col in ['count', 'monetary']:\n",
    "    labels = df_seg['Segment'] + df_seg[col + ' %'].apply(lambda x: '({0:.2f}%)'.format(x))\n",
    "\n",
    "    fig, ax = plt.subplots(figsize=(18,8))\n",
    "    squarify.plot(sizes=df_seg[col], label=labels, alpha=.8, color=sns.color_palette('Paired', len(df_seg)))\n",
    "    ax.set_title('RFM Segments of Customers (%s)' % col)\n",
    "    plt.axis('off')\n",
    "    plt.show()"
   ]
  },
  {
   "cell_type": "markdown",
   "id": "95a2ebca-cfb3-44cb-b4a0-8f1636e3437a",
   "metadata": {},
   "source": [
    "- Most of customers are in the Hibernating, Loyal Customers, and Potential Loyalist.\n",
    "- Most of profit comes from the segment of Can't Loose, Champions, and Loyal Customers."
   ]
  },
  {
   "cell_type": "markdown",
   "id": "f8e657fd-5c15-4e34-9862-edc5b0f2c84e",
   "metadata": {},
   "source": [
    "### **5.2. Interpretation**"
   ]
  },
  {
   "cell_type": "code",
   "execution_count": null,
   "id": "a53741f7-f3f5-4f27-8487-c7335ae3267d",
   "metadata": {},
   "outputs": [],
   "source": [
    "# Aggregate data by each customer\n",
    "rfm1 = rfm_data.groupby(['Score','Segment'])['Segment'].count()\n",
    "rfm1 = rfm1.reset_index(name='count')\n",
    "rfm1['percentage'] =  (100 * rfm1['count'] / rfm1.groupby('Score')['count'].transform('sum')).round(2)\n",
    "# rfm1\n",
    "pvt = rfm1.pivot_table(index='Score', columns='Segment', values='percentage')\n",
    "pvt"
   ]
  },
  {
   "cell_type": "markdown",
   "id": "d54df878-7b85-4798-abeb-9f24b5ad9a9e",
   "metadata": {},
   "source": [
    "|Customer Score|%|RFM Segment|RFM Interpretation|Actionable Insight|\n",
    "|---|---|---|---|---|\n",
    "|Diamond|17%|50% Champions; 47% Loyal Customers|Customers who transacted recently, buy often, with a high or low amount of monetary spending. The majority of Diamond customers are Champions and Loyal Customers.| To retain champion customers, companies can reward them. And to convert Loyal Customers into Champion customers, the company should engage them more frequently, ask for reviews, or upsell higher-value products.|\n",
    "|Platinum|30%|35% Loyal Customers; 27% Potential Loyalists|Customers who made their last transaction some time ago, spend a good amount and purchase more than once or often. RFM segmentation shows that 35% of them are Loyal Customers and 27% are Potential Loyalists.| Companies should offer loyalty programs with benefits like points or discounts for customers and recommend other products to them.|\n",
    "|Gold|28%|32% At Risk|Customers who spend big money and purchase often but haven't purchased for a long time. RFM segmentation in Gold customer shows that majority 32% of them are At Risk|Companies should bring them back by sending personalized emails or newsletters to reconnect and offer promotions or discounts.|\n",
    "|Silver|20%|66% Hibernating|Customers who made their last transaction a long time ago, and who have made few purchases. RFM segmentation shows that majority of Silver customers are Hibernating.|Offer other personalized or relevant products, and give more special discount.|\n",
    "|Bronze|6%|100% Hibernating|Can identify as a lost customer. Lowest recency, frequency, and monetary scores.| Companies can revive interest with outreach campaigns or ignore them otherwise.|"
   ]
  },
  {
   "cell_type": "markdown",
   "id": "6459c097-e1e6-4138-bf00-4b0347cbf200",
   "metadata": {},
   "source": [
    "## **6. Customer Target**"
   ]
  },
  {
   "cell_type": "code",
   "execution_count": null,
   "id": "e95db360-1b1e-478d-aa5d-b4305ce3a879",
   "metadata": {},
   "outputs": [],
   "source": [
    "# copy customer demographic dataset\n",
    "df_customer = demo_addr.copy()"
   ]
  },
  {
   "cell_type": "markdown",
   "id": "e5e5ee91-0d84-4a39-bd76-cb36fdf28e65",
   "metadata": {},
   "source": [
    "We will attach RFM and scoring labels to the customer demographics dataset and we will conduct further analysis on customer characteristics that have potential for marketing strategies."
   ]
  },
  {
   "cell_type": "code",
   "execution_count": null,
   "id": "69f7371e-4259-4f89-96e7-803e5ed30d1e",
   "metadata": {},
   "outputs": [],
   "source": [
    "rfm_data1 = rfm_data[['customer_id', 'Score', 'Segment']].copy()"
   ]
  },
  {
   "cell_type": "code",
   "execution_count": null,
   "id": "7bb7fc73-3c39-4a4c-a454-761391887a68",
   "metadata": {},
   "outputs": [],
   "source": [
    "# merge dataset by id customers\n",
    "df_target = pd.merge(df_customer, rfm_data1, on = 'customer_id')"
   ]
  },
  {
   "cell_type": "code",
   "execution_count": null,
   "id": "6858594c-f6c8-47f2-8dcf-905220ec24d4",
   "metadata": {},
   "outputs": [],
   "source": [
    "df_target.sample(3)"
   ]
  },
  {
   "cell_type": "markdown",
   "id": "2769caa9-fec5-4c35-b396-f60136234f16",
   "metadata": {},
   "source": [
    "We decided to focus on exploring **Diamond Customers** that generate the most profit for the company."
   ]
  },
  {
   "cell_type": "code",
   "execution_count": null,
   "id": "bbd91ae1-8859-466a-99cc-6ee842b01d0b",
   "metadata": {},
   "outputs": [],
   "source": [
    "# filtering data Diamond Customers\n",
    "df_target = df_target[df_target['Score'] == 'Diamond']"
   ]
  },
  {
   "cell_type": "code",
   "execution_count": null,
   "id": "465d84db-2038-4705-902e-51e40829942b",
   "metadata": {},
   "outputs": [],
   "source": [
    "df_target.info()"
   ]
  },
  {
   "cell_type": "markdown",
   "id": "8ace0aaf-1fe6-4dbb-960d-c5bb15302bbf",
   "metadata": {},
   "source": [
    "### **6.1 Statistical Summary or Diamond Customers**"
   ]
  },
  {
   "cell_type": "markdown",
   "id": "6322f1f6-f9be-4f78-8048-9fcba6975ee8",
   "metadata": {},
   "source": [
    "#### **Numerical Columns**\n",
    "---"
   ]
  },
  {
   "cell_type": "code",
   "execution_count": null,
   "id": "991bc9a7-1fbb-4116-8604-4c1ab000df04",
   "metadata": {},
   "outputs": [],
   "source": [
    "df_target.describe().T.round(2)"
   ]
  },
  {
   "cell_type": "code",
   "execution_count": null,
   "id": "6d4aeb7f-8908-478d-b418-3a6fd5e2312c",
   "metadata": {},
   "outputs": [],
   "source": [
    "# looking distribution\n",
    "nums =['past_3_years_bike_related_purchases', 'tenure', 'age', 'age_class', 'property_valuation']\n",
    "plt.figure(figsize=(10, 5))\n",
    "for i in range(0, len(nums)):\n",
    "    plt.subplot(2, 3, i+1)\n",
    "    sns.distplot(data_merged[nums[i]])\n",
    "    plt.tight_layout()"
   ]
  },
  {
   "cell_type": "markdown",
   "id": "8594dba0-7686-4ff6-8711-4d113ec4e9e7",
   "metadata": {},
   "source": [
    "#### **Categorical Columns**\n",
    "---"
   ]
  },
  {
   "cell_type": "code",
   "execution_count": null,
   "id": "55c5d4f6-95b6-45bc-93e0-8cf19935b9da",
   "metadata": {},
   "outputs": [],
   "source": [
    "cats = ['gender', 'job_title', 'job_industry_category', 'wealth_segment', 'owns_car', 'state', 'Segment']\n",
    "df_target[cats].describe().T"
   ]
  },
  {
   "cell_type": "markdown",
   "id": "1a134399-ac3e-40d8-8580-64d537de8024",
   "metadata": {},
   "source": [
    "### **6.2. Analyzing and Viasualizing Distribution of Diamond Customers**"
   ]
  },
  {
   "cell_type": "markdown",
   "id": "d1a223f3-f2f3-4293-beb8-8bfe34a517ab",
   "metadata": {},
   "source": [
    "#### **Diamond Customers Gender**"
   ]
  },
  {
   "cell_type": "code",
   "execution_count": null,
   "id": "3ef5fe17-e9fa-4ff4-8fa7-d1c526084174",
   "metadata": {},
   "outputs": [],
   "source": [
    "# percentage gender\n",
    "gender = df_target['gender'].value_counts().reset_index()\n",
    "gender.columns = ['gender', 'count']\n",
    "gender['percentage'] = (gender['count']/gender['count'].sum()*100).round(2)\n",
    "gender"
   ]
  },
  {
   "cell_type": "code",
   "execution_count": null,
   "id": "7745526b-5b79-4c76-811a-0aa762627adc",
   "metadata": {},
   "outputs": [],
   "source": [
    "# calculating data\n",
    "group = df_target.groupby(['gender'])['customer_id'].count()\n",
    "group = group.reset_index(name='count')\n",
    "\n",
    "# creating visualization\n",
    "x = group.plot(kind='bar', x='gender', y='count', color=sns.color_palette('tab10'))\n",
    "plt.title('Diamond Customers Gender Distribution', fontweight='bold')\n",
    "plt.xticks(rotation=360)\n",
    "plt.legend('')\n",
    "\n",
    "# showing label in bars\n",
    "for bar in x.patches:\n",
    "    x.annotate(format(bar.get_height(), '.0f'),\n",
    "                   (bar.get_x() + bar.get_width() / 2,\n",
    "                    bar.get_height()), ha='center', va='center',\n",
    "                   size=10, xytext=(0, 5),\n",
    "                   textcoords='offset points')"
   ]
  },
  {
   "cell_type": "markdown",
   "id": "b10ce635-b21b-445b-8069-206c4147badc",
   "metadata": {},
   "source": [
    "From the graph, it can be seen that the difference between the number of female and male customers is not significant. We will compare gender with other variables."
   ]
  },
  {
   "cell_type": "code",
   "execution_count": null,
   "id": "d2797834-f126-426a-8d7a-5089da9d2c87",
   "metadata": {},
   "outputs": [],
   "source": [
    "# calculating value\n",
    "bike = df_target.groupby(['gender'])['past_3_years_bike_related_purchases'].median().reset_index(name='median_past_3_years_bike_related_purchases')\n",
    "properti = df_target.groupby(['gender'])['property_valuation'].median().reset_index(name='median_property_valuation')\n",
    "tenure = df_target.groupby(['gender'])['tenure'].median().reset_index(name='median_tenure')\n",
    "\n",
    "# visualization\n",
    "fig, axes = plt.subplots(1, 3, figsize=(20, 5), sharex=True, sharey=True)\n",
    "ax1 = bike.plot(kind='bar', x='gender', y='median_past_3_years_bike_related_purchases', color=sns.color_palette('tab10'), ax=axes[0])\n",
    "ax2 = properti.plot(kind='bar', x='gender', y='median_property_valuation', color=sns.color_palette('tab10'), ax=axes[1])\n",
    "ax3 = tenure.plot(kind='bar', x='gender', y='median_tenure', color=sns.color_palette('tab10'), ax=axes[2])\n",
    "\n",
    "# giving label\n",
    "axes[0].bar_label(ax1.containers[0]) \n",
    "axes[1].bar_label(ax2.containers[0]) \n",
    "axes[2].bar_label(ax3.containers[0])\n",
    "\n",
    "axes[0].legend().remove()\n",
    "plt.setp(ax1.get_xticklabels() + ax2.get_xticklabels() + ax3.get_xticklabels(), rotation=360)\n",
    "axes[0].set_title('Diamond Customers Gender \\nvs Median Bike Related Purchases', fontweight='bold')\n",
    "axes[1].set_title('Diamond Customers Gender \\nvs Median Property Valuation Distributions', fontweight='bold')\n",
    "axes[2].set_title('Diamond Customers Gender \\nvs Median Tenure Distributions', fontweight='bold')"
   ]
  },
  {
   "cell_type": "markdown",
   "id": "426d14d5-7da2-4771-a4d1-9e5f70937aac",
   "metadata": {},
   "source": [
    "This information shows that gender has little effect on Diamond's customer indicators."
   ]
  },
  {
   "cell_type": "markdown",
   "id": "6d581658-3f41-40b4-9f18-20c8ada1fa3c",
   "metadata": {},
   "source": [
    "#### **Diamond Customers Gender with Age**\n",
    "---"
   ]
  },
  {
   "cell_type": "code",
   "execution_count": null,
   "id": "d109e92d-cbf7-4ef7-a57e-01a7c22529a1",
   "metadata": {},
   "outputs": [],
   "source": [
    "# percentage age\n",
    "age = df_target['age_class'].value_counts().reset_index()\n",
    "age.columns = ['age_class', 'count']\n",
    "age['percentage'] = (age['count']/age['count'].sum()*100).round(2)\n",
    "age"
   ]
  },
  {
   "cell_type": "code",
   "execution_count": null,
   "id": "ab23e0df-07fe-40b2-9073-f8eac61b462e",
   "metadata": {},
   "outputs": [],
   "source": [
    "# calculating data\n",
    "group = df_target.groupby(['age_class', 'gender'])['customer_id'].count()\n",
    "group = group.reset_index(name='count')\n",
    "pvt = group.pivot_table(index='age_class', columns='gender', values='count')\n",
    "\n",
    "# creating visualization\n",
    "ax = pvt.plot(kind='bar', stacked=True)\n",
    "plt.title('Diamond Customer Gender with Age Distribution', fontweight='bold')\n",
    "plt.xticks(rotation=360)\n",
    "\n",
    "# showing label in bars\n",
    "for p in ax.patches:\n",
    "    left, bottom, width, height =  p.get_bbox().bounds\n",
    "    if height > 0 :\n",
    "        ax.annotate(\"{0:.0f}\".format(height), xy=(left+width/2, bottom+height/2), ha='center', va='center', color='w')"
   ]
  },
  {
   "cell_type": "markdown",
   "id": "d5b18378-095b-42dd-9f86-6941e0da4dc6",
   "metadata": {},
   "source": [
    "Most customers are in the age class 40 - 50, it can be interpreted that the highest frequency of Diamond customers in the age range 36 - 55. From this graph it can also be seen that gender has an almost equal distribution."
   ]
  },
  {
   "cell_type": "markdown",
   "id": "c7bfcb22-290b-4b81-9b65-4662a16e91b2",
   "metadata": {},
   "source": [
    "#### **Diamond Customers Wealth Segment with Age**\n",
    "---"
   ]
  },
  {
   "cell_type": "code",
   "execution_count": null,
   "id": "9d39a032-d7c6-4096-9953-7da5fe18a903",
   "metadata": {},
   "outputs": [],
   "source": [
    "# percentage wealth\n",
    "wealth = df_target['wealth_segment'].value_counts().reset_index()\n",
    "wealth.columns = ['wealth_segment', 'count']\n",
    "wealth['percentage'] = (wealth['count']/wealth['count'].sum()*100).round(2)\n",
    "wealth"
   ]
  },
  {
   "cell_type": "code",
   "execution_count": null,
   "id": "07218025-a2b2-4871-84a4-1f59622c43c9",
   "metadata": {},
   "outputs": [],
   "source": [
    "# calculating data\n",
    "group = df_target.groupby(['age_class', 'wealth_segment'])['customer_id'].count()\n",
    "group = group.reset_index(name='count')\n",
    "pvt = group.pivot_table(index='age_class', columns='wealth_segment', values='count')\n",
    "\n",
    "# creating visualization\n",
    "ax = pvt.plot(kind='bar', stacked=True)\n",
    "plt.title('Diamond Customer Wealth Segment with Age Distribution', fontweight='bold')\n",
    "plt.xticks(rotation=360)\n",
    "\n",
    "# showing label in bars\n",
    "for p in ax.patches:\n",
    "    left, bottom, width, height =  p.get_bbox().bounds\n",
    "    if height > 0 :\n",
    "        ax.annotate(\"{0:.0f}\".format(height), xy=(left+width/2, bottom+height/2), ha='center', va='center', color='w')"
   ]
  },
  {
   "cell_type": "markdown",
   "id": "9b2496ce-04b2-479b-9441-8a2bb93fde3a",
   "metadata": {},
   "source": [
    "The mass customer segment still has a high value in the 40-50 age class."
   ]
  },
  {
   "cell_type": "markdown",
   "id": "5e6efe0b-5156-4cd3-8043-22620b623464",
   "metadata": {},
   "source": [
    "#### **Diamond Customers State**\n",
    "---"
   ]
  },
  {
   "cell_type": "code",
   "execution_count": null,
   "id": "bbd1678c-7939-47a2-94cf-b24b1ed57474",
   "metadata": {},
   "outputs": [],
   "source": [
    "# percentage state\n",
    "state = df_target['state'].value_counts().reset_index()\n",
    "state.columns = ['state', 'count']\n",
    "state['percentage'] = (state['count']/state['count'].sum()*100).round(2)\n",
    "state"
   ]
  },
  {
   "cell_type": "code",
   "execution_count": null,
   "id": "7de2bdaa-ad4b-4c7c-b1fc-ae97a33c900b",
   "metadata": {},
   "outputs": [],
   "source": [
    "# calculating data\n",
    "group = df_target.groupby(['state'])['customer_id'].count()\n",
    "group = group.reset_index(name='count')\n",
    "\n",
    "# creating visualization\n",
    "x = group.plot(kind='bar', x='state', y='count', color=sns.color_palette('tab10'))\n",
    "plt.title('Diamond Customers State Distribution', fontweight='bold')\n",
    "plt.xticks(rotation=360)\n",
    "plt.legend('')\n",
    "\n",
    "# showing label in bars\n",
    "for bar in x.patches:\n",
    "    x.annotate(format(bar.get_height(), '.0f'),\n",
    "                   (bar.get_x() + bar.get_width() / 2,\n",
    "                    bar.get_height()), ha='center', va='center',\n",
    "                   size=10, xytext=(0, 5),\n",
    "                   textcoords='offset points')"
   ]
  },
  {
   "cell_type": "markdown",
   "id": "1b32a934-b27b-4448-8d01-35915f45f407",
   "metadata": {},
   "source": [
    "The majority of Diamond customers are from New South Wales."
   ]
  },
  {
   "cell_type": "markdown",
   "id": "3a635b35-008c-4869-834f-afc947bda39f",
   "metadata": {},
   "source": [
    "#### **Diamond Customers State with Wealth Segment**\n",
    "---"
   ]
  },
  {
   "cell_type": "code",
   "execution_count": null,
   "id": "b4b2bcaf-c0f7-49be-9619-17c4bb7514f8",
   "metadata": {},
   "outputs": [],
   "source": [
    "# calculating data\n",
    "group = df_target.groupby(['wealth_segment', 'state'])['customer_id'].count()\n",
    "group = group.reset_index(name='count')\n",
    "pvt = group.pivot_table(columns='state', index='wealth_segment', values='count')\n",
    "\n",
    "# creating visualization\n",
    "ax = pvt.plot(kind='bar', stacked=True)\n",
    "plt.title('Diamond Customers State with Wealth Segment Distribution', fontweight='bold')\n",
    "plt.xticks(rotation=360)\n",
    "\n",
    "# showing label in bars\n",
    "for p in ax.patches:\n",
    "    left, bottom, width, height =  p.get_bbox().bounds\n",
    "    if height > 0 :\n",
    "        ax.annotate(\"{0:.0f}\".format(height), xy=(left+width/2, bottom+height/2), ha='center', va='center', color='w')"
   ]
  },
  {
   "cell_type": "markdown",
   "id": "114f181b-ec03-4e9f-8f22-27a501f36289",
   "metadata": {},
   "source": [
    "Most of the customers come from Mass Customers, which is twice as much as the total Affluent Customers/High Net Worth. From this graph it can also be seen that NSW also still has a high value."
   ]
  },
  {
   "cell_type": "markdown",
   "id": "248d0aa8-d024-4984-b88d-3785a79db195",
   "metadata": {},
   "source": [
    "#### **Diamond Customers Job Industry**"
   ]
  },
  {
   "cell_type": "code",
   "execution_count": null,
   "id": "745fefe1-fcec-4b01-85c5-4c66daf6fbfd",
   "metadata": {},
   "outputs": [],
   "source": [
    "# percentage state\n",
    "industry = df_target['job_industry_category'].value_counts().reset_index()\n",
    "industry.columns = ['job_industry_category', 'count']\n",
    "industry['percentage'] = (industry['count']/state['count'].sum()*100).round(2)\n",
    "industry"
   ]
  },
  {
   "cell_type": "code",
   "execution_count": null,
   "id": "5d5ff0ff-88ea-40e7-9461-d8aa1f7643aa",
   "metadata": {},
   "outputs": [],
   "source": [
    "# calculating data\n",
    "indust = df_target['job_industry_category'].value_counts().reset_index()\n",
    "indust.columns = ['job_industry', 'count']\n",
    "\n",
    "# visualizing job industry\n",
    "fig, ax = plt.subplots(figsize=(10,5))\n",
    "\n",
    "indust_sort = indust.sort_values(by=['count']).reset_index(drop=True)\n",
    "bars = plt.barh(y=indust_sort['job_industry'], width= indust_sort['count'])\n",
    "plt.bar_label(ax.containers[0]) \n",
    "plt.title('Platinum Customer Job Industry Distributions', fontweight='bold')\n",
    "plt.xlabel('count',fontsize=12)\n",
    "plt.ylabel('Percentage',fontsize=12)"
   ]
  },
  {
   "cell_type": "markdown",
   "id": "828b0558-9409-4cfd-b468-546d84a3c75c",
   "metadata": {},
   "source": [
    "Most of Diamond customers are in manufacturing, financial services, and health industry."
   ]
  },
  {
   "cell_type": "markdown",
   "id": "843509d0-1c99-43ae-a184-46e6adfd949a",
   "metadata": {},
   "source": [
    "#### **Diamond Customers Property Valuation**"
   ]
  },
  {
   "cell_type": "code",
   "execution_count": null,
   "id": "548e94c4-e82c-4c8d-973b-10f8f2e45383",
   "metadata": {},
   "outputs": [],
   "source": [
    "# calculating data\n",
    "group = df_target.groupby(['property_valuation'])['customer_id'].count()\n",
    "group = group.reset_index(name='count')\n",
    "\n",
    "# creating visualization\n",
    "x = group.plot(kind='bar', x='property_valuation', y='count')\n",
    "plt.title('Diamond Customers Property Valuation Distribution', fontweight='bold')\n",
    "plt.xticks(rotation=360)\n",
    "plt.legend('')\n",
    "\n",
    "# showing label in bars\n",
    "for bar in x.patches:\n",
    "    x.annotate(format(bar.get_height(), '.0f'),\n",
    "                   (bar.get_x() + bar.get_width() / 2,\n",
    "                    bar.get_height()), ha='center', va='center',\n",
    "                   size=10, xytext=(0, 5),\n",
    "                   textcoords='offset points')"
   ]
  },
  {
   "cell_type": "markdown",
   "id": "01b1d1d8-4ce3-43bd-a0ab-3ecf1f0855b8",
   "metadata": {},
   "source": [
    "Most Diamond customers have property valuation in range 7 - 10."
   ]
  },
  {
   "cell_type": "markdown",
   "id": "43282ff4-f7f6-4a08-bf7c-5b7a609b4e94",
   "metadata": {},
   "source": [
    "### **6.3. Conclusion**"
   ]
  },
  {
   "cell_type": "markdown",
   "id": "4ca5dfaa-5fa0-4c52-a5c0-79edbc34b6ef",
   "metadata": {},
   "source": [
    "Using the information that we got in theanalysis, we can filter the target customer. They are :\n",
    "- Aged between 35 - 55.\n",
    "- Work in  manufacture, financial services, or health industry.\n",
    "- Classified as mass customer\n",
    "- Live in New South Wales\n",
    "- Have property valuation at 7-10 range"
   ]
  },
  {
   "cell_type": "markdown",
   "id": "57de72df-0bdb-4364-bcb2-ffa43f0e2ce7",
   "metadata": {},
   "source": [
    "Next, we will analyze 1000 customer data that has been provided by the company based on the potential customer characteristics that we have found."
   ]
  },
  {
   "cell_type": "code",
   "execution_count": null,
   "id": "9ee47e3f-795a-43a1-bad9-6114c7adb476",
   "metadata": {},
   "outputs": [],
   "source": []
  }
 ],
 "metadata": {
  "kernelspec": {
   "display_name": "Python 3 (ipykernel)",
   "language": "python",
   "name": "python3"
  },
  "language_info": {
   "codemirror_mode": {
    "name": "ipython",
    "version": 3
   },
   "file_extension": ".py",
   "mimetype": "text/x-python",
   "name": "python",
   "nbconvert_exporter": "python",
   "pygments_lexer": "ipython3",
   "version": "3.9.15"
  }
 },
 "nbformat": 4,
 "nbformat_minor": 5
}
